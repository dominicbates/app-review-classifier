{
 "cells": [
  {
   "cell_type": "markdown",
   "metadata": {},
   "source": [
    "### Load Modules"
   ]
  },
  {
   "cell_type": "code",
   "execution_count": 1,
   "metadata": {},
   "outputs": [],
   "source": [
    "import pandas as pd\n",
    "import numpy as np\n",
    "import os\n",
    "sub_dir = '/Users/dominicbates/Documents/GitHub/app-review-classifier/'\n",
    "os.chdir(sub_dir)\n",
    "import app_review_classifier.review_scraper as scraper\n"
   ]
  },
  {
   "cell_type": "markdown",
   "metadata": {},
   "source": [
    "### Scrape all review data"
   ]
  },
  {
   "cell_type": "code",
   "execution_count": null,
   "metadata": {
    "scrolled": true
   },
   "outputs": [
    {
     "name": "stdout",
     "output_type": "stream",
     "text": [
      "Getting apple reviews...\n"
     ]
    },
    {
     "name": "stderr",
     "output_type": "stream",
     "text": [
      "2022-08-31 14:57:49,633 [INFO] Base - Initialised: AppStore('us', 'the-economist', 1239397626)\n",
      "2022-08-31 14:57:49,634 [INFO] Base - Ready to fetch reviews from: https://apps.apple.com/us/app/the-economist/id1239397626\n",
      "2022-08-31 14:58:08,283 [ERROR] Base - Something went wrong: HTTPSConnectionPool(host='amp-api.apps.apple.com', port=443): Max retries exceeded with url: /v1/catalog/us/apps/1239397626/reviews?l=en-GB&offset=0&limit=20&platform=web&additionalPlatforms=appletv%2Cipad%2Ciphone%2Cmac (Caused by ResponseError('too many 429 error responses'))\n",
      "2022-08-31 14:58:08,285 [INFO] Base - [id:1239397626] Fetched 0 reviews (0 fetched in total)\n"
     ]
    },
    {
     "name": "stdout",
     "output_type": "stream",
     "text": [
      "No results found for US - let's wait a sec, then retry...\n"
     ]
    },
    {
     "name": "stderr",
     "output_type": "stream",
     "text": [
      "2022-08-31 14:58:18,347 [INFO] Base - Initialised: AppStore('us', 'the-economist', 1239397626)\n",
      "2022-08-31 14:58:18,348 [INFO] Base - Ready to fetch reviews from: https://apps.apple.com/us/app/the-economist/id1239397626\n",
      "2022-08-31 14:58:37,050 [ERROR] Base - Something went wrong: HTTPSConnectionPool(host='amp-api.apps.apple.com', port=443): Max retries exceeded with url: /v1/catalog/us/apps/1239397626/reviews?l=en-GB&offset=0&limit=20&platform=web&additionalPlatforms=appletv%2Cipad%2Ciphone%2Cmac (Caused by ResponseError('too many 429 error responses'))\n",
      "2022-08-31 14:58:37,053 [INFO] Base - [id:1239397626] Fetched 0 reviews (0 fetched in total)\n"
     ]
    },
    {
     "name": "stdout",
     "output_type": "stream",
     "text": [
      "No results found for US - let's wait a sec, then retry...\n"
     ]
    },
    {
     "name": "stderr",
     "output_type": "stream",
     "text": [
      "2022-08-31 14:58:49,837 [INFO] Base - Initialised: AppStore('us', 'the-economist', 1239397626)\n",
      "2022-08-31 14:58:49,838 [INFO] Base - Ready to fetch reviews from: https://apps.apple.com/us/app/the-economist/id1239397626\n",
      "2022-08-31 14:59:09,013 [ERROR] Base - Something went wrong: HTTPSConnectionPool(host='amp-api.apps.apple.com', port=443): Max retries exceeded with url: /v1/catalog/us/apps/1239397626/reviews?l=en-GB&offset=0&limit=20&platform=web&additionalPlatforms=appletv%2Cipad%2Ciphone%2Cmac (Caused by ResponseError('too many 429 error responses'))\n",
      "2022-08-31 14:59:09,017 [INFO] Base - [id:1239397626] Fetched 0 reviews (0 fetched in total)\n"
     ]
    },
    {
     "name": "stdout",
     "output_type": "stream",
     "text": [
      "No results found for US - let's wait a sec, then retry...\n"
     ]
    },
    {
     "name": "stderr",
     "output_type": "stream",
     "text": [
      "2022-08-31 14:59:23,089 [INFO] Base - Initialised: AppStore('us', 'the-economist', 1239397626)\n",
      "2022-08-31 14:59:23,090 [INFO] Base - Ready to fetch reviews from: https://apps.apple.com/us/app/the-economist/id1239397626\n",
      "2022-08-31 14:59:41,683 [ERROR] Base - Something went wrong: HTTPSConnectionPool(host='amp-api.apps.apple.com', port=443): Max retries exceeded with url: /v1/catalog/us/apps/1239397626/reviews?l=en-GB&offset=0&limit=20&platform=web&additionalPlatforms=appletv%2Cipad%2Ciphone%2Cmac (Caused by ResponseError('too many 429 error responses'))\n",
      "2022-08-31 14:59:41,688 [INFO] Base - [id:1239397626] Fetched 0 reviews (0 fetched in total)\n"
     ]
    },
    {
     "name": "stdout",
     "output_type": "stream",
     "text": [
      "No results found for US - let's wait a sec, then retry...\n"
     ]
    },
    {
     "name": "stderr",
     "output_type": "stream",
     "text": [
      "2022-08-31 15:00:06,850 [INFO] Base - Initialised: AppStore('us', 'the-economist', 1239397626)\n",
      "2022-08-31 15:00:06,851 [INFO] Base - Ready to fetch reviews from: https://apps.apple.com/us/app/the-economist/id1239397626\n",
      "2022-08-31 15:00:25,693 [ERROR] Base - Something went wrong: HTTPSConnectionPool(host='amp-api.apps.apple.com', port=443): Max retries exceeded with url: /v1/catalog/us/apps/1239397626/reviews?l=en-GB&offset=0&limit=20&platform=web&additionalPlatforms=appletv%2Cipad%2Ciphone%2Cmac (Caused by ResponseError('too many 429 error responses'))\n",
      "2022-08-31 15:00:25,699 [INFO] Base - [id:1239397626] Fetched 0 reviews (0 fetched in total)\n"
     ]
    },
    {
     "name": "stdout",
     "output_type": "stream",
     "text": [
      "No results found for US - let's wait a sec, then retry...\n"
     ]
    },
    {
     "name": "stderr",
     "output_type": "stream",
     "text": [
      "2022-08-31 15:00:43,795 [INFO] Base - Initialised: AppStore('us', 'the-economist', 1239397626)\n",
      "2022-08-31 15:00:43,796 [INFO] Base - Ready to fetch reviews from: https://apps.apple.com/us/app/the-economist/id1239397626\n",
      "2022-08-31 15:01:02,550 [ERROR] Base - Something went wrong: HTTPSConnectionPool(host='amp-api.apps.apple.com', port=443): Max retries exceeded with url: /v1/catalog/us/apps/1239397626/reviews?l=en-GB&offset=0&limit=20&platform=web&additionalPlatforms=appletv%2Cipad%2Ciphone%2Cmac (Caused by ResponseError('too many 429 error responses'))\n",
      "2022-08-31 15:01:02,555 [INFO] Base - [id:1239397626] Fetched 0 reviews (0 fetched in total)\n"
     ]
    },
    {
     "name": "stdout",
     "output_type": "stream",
     "text": [
      "No results found for US - let's wait a sec, then retry...\n"
     ]
    },
    {
     "name": "stderr",
     "output_type": "stream",
     "text": [
      "2022-08-31 15:01:24,071 [INFO] Base - Initialised: AppStore('us', 'the-economist', 1239397626)\n",
      "2022-08-31 15:01:24,072 [INFO] Base - Ready to fetch reviews from: https://apps.apple.com/us/app/the-economist/id1239397626\n",
      "2022-08-31 15:01:42,786 [ERROR] Base - Something went wrong: HTTPSConnectionPool(host='amp-api.apps.apple.com', port=443): Max retries exceeded with url: /v1/catalog/us/apps/1239397626/reviews?l=en-GB&offset=0&limit=20&platform=web&additionalPlatforms=appletv%2Cipad%2Ciphone%2Cmac (Caused by ResponseError('too many 429 error responses'))\n",
      "2022-08-31 15:01:42,789 [INFO] Base - [id:1239397626] Fetched 0 reviews (0 fetched in total)\n"
     ]
    },
    {
     "name": "stdout",
     "output_type": "stream",
     "text": [
      "No results found for US - let's wait a sec, then retry...\n"
     ]
    },
    {
     "name": "stderr",
     "output_type": "stream",
     "text": [
      "2022-08-31 15:02:04,859 [INFO] Base - Initialised: AppStore('us', 'the-economist', 1239397626)\n",
      "2022-08-31 15:02:04,860 [INFO] Base - Ready to fetch reviews from: https://apps.apple.com/us/app/the-economist/id1239397626\n",
      "2022-08-31 15:02:23,388 [ERROR] Base - Something went wrong: HTTPSConnectionPool(host='amp-api.apps.apple.com', port=443): Max retries exceeded with url: /v1/catalog/us/apps/1239397626/reviews?l=en-GB&offset=0&limit=20&platform=web&additionalPlatforms=appletv%2Cipad%2Ciphone%2Cmac (Caused by ResponseError('too many 429 error responses'))\n",
      "2022-08-31 15:02:23,394 [INFO] Base - [id:1239397626] Fetched 0 reviews (0 fetched in total)\n"
     ]
    },
    {
     "name": "stdout",
     "output_type": "stream",
     "text": [
      "No results found for US - let's wait a sec, then retry...\n"
     ]
    },
    {
     "name": "stderr",
     "output_type": "stream",
     "text": [
      "2022-08-31 15:02:50,432 [INFO] Base - Initialised: AppStore('us', 'the-economist', 1239397626)\n",
      "2022-08-31 15:02:50,433 [INFO] Base - Ready to fetch reviews from: https://apps.apple.com/us/app/the-economist/id1239397626\n",
      "2022-08-31 15:03:09,815 [ERROR] Base - Something went wrong: HTTPSConnectionPool(host='amp-api.apps.apple.com', port=443): Max retries exceeded with url: /v1/catalog/us/apps/1239397626/reviews?l=en-GB&offset=20&limit=20&platform=web&additionalPlatforms=appletv%2Cipad%2Ciphone%2Cmac (Caused by ResponseError('too many 429 error responses'))\n",
      "2022-08-31 15:03:09,821 [INFO] Base - [id:1239397626] Fetched 20 reviews (20 fetched in total)\n"
     ]
    },
    {
     "name": "stdout",
     "output_type": "stream",
     "text": [
      "Found some results for US! Moving on...\n"
     ]
    },
    {
     "name": "stderr",
     "output_type": "stream",
     "text": [
      "2022-08-31 15:03:15,857 [INFO] Base - Initialised: AppStore('us', 'espresso-from-the-economist', 896628003)\n",
      "2022-08-31 15:03:15,858 [INFO] Base - Ready to fetch reviews from: https://apps.apple.com/us/app/espresso-from-the-economist/id896628003\n",
      "2022-08-31 15:03:34,356 [ERROR] Base - Something went wrong: HTTPSConnectionPool(host='amp-api.apps.apple.com', port=443): Max retries exceeded with url: /v1/catalog/us/apps/896628003/reviews?l=en-GB&offset=0&limit=20&platform=web&additionalPlatforms=appletv%2Cipad%2Ciphone%2Cmac (Caused by ResponseError('too many 429 error responses'))\n",
      "2022-08-31 15:03:34,362 [INFO] Base - [id:896628003] Fetched 0 reviews (0 fetched in total)\n"
     ]
    },
    {
     "name": "stdout",
     "output_type": "stream",
     "text": [
      "No results found for US - let's wait a sec, then retry...\n"
     ]
    },
    {
     "name": "stderr",
     "output_type": "stream",
     "text": [
      "2022-08-31 15:03:44,413 [INFO] Base - Initialised: AppStore('us', 'espresso-from-the-economist', 896628003)\n",
      "2022-08-31 15:03:44,413 [INFO] Base - Ready to fetch reviews from: https://apps.apple.com/us/app/espresso-from-the-economist/id896628003\n",
      "2022-08-31 15:04:02,984 [ERROR] Base - Something went wrong: HTTPSConnectionPool(host='amp-api.apps.apple.com', port=443): Max retries exceeded with url: /v1/catalog/us/apps/896628003/reviews?l=en-GB&offset=0&limit=20&platform=web&additionalPlatforms=appletv%2Cipad%2Ciphone%2Cmac (Caused by ResponseError('too many 429 error responses'))\n",
      "2022-08-31 15:04:02,989 [INFO] Base - [id:896628003] Fetched 0 reviews (0 fetched in total)\n"
     ]
    },
    {
     "name": "stdout",
     "output_type": "stream",
     "text": [
      "No results found for US - let's wait a sec, then retry...\n"
     ]
    },
    {
     "name": "stderr",
     "output_type": "stream",
     "text": [
      "2022-08-31 15:04:16,333 [INFO] Base - Initialised: AppStore('us', 'espresso-from-the-economist', 896628003)\n",
      "2022-08-31 15:04:16,334 [INFO] Base - Ready to fetch reviews from: https://apps.apple.com/us/app/espresso-from-the-economist/id896628003\n",
      "2022-08-31 15:04:35,056 [ERROR] Base - Something went wrong: HTTPSConnectionPool(host='amp-api.apps.apple.com', port=443): Max retries exceeded with url: /v1/catalog/us/apps/896628003/reviews?l=en-GB&offset=0&limit=20&platform=web&additionalPlatforms=appletv%2Cipad%2Ciphone%2Cmac (Caused by ResponseError('too many 429 error responses'))\n",
      "2022-08-31 15:04:35,062 [INFO] Base - [id:896628003] Fetched 0 reviews (0 fetched in total)\n"
     ]
    },
    {
     "name": "stdout",
     "output_type": "stream",
     "text": [
      "No results found for US - let's wait a sec, then retry...\n"
     ]
    },
    {
     "name": "stderr",
     "output_type": "stream",
     "text": [
      "2022-08-31 15:04:49,121 [INFO] Base - Initialised: AppStore('us', 'espresso-from-the-economist', 896628003)\n",
      "2022-08-31 15:04:49,122 [INFO] Base - Ready to fetch reviews from: https://apps.apple.com/us/app/espresso-from-the-economist/id896628003\n",
      "2022-08-31 15:05:07,738 [ERROR] Base - Something went wrong: HTTPSConnectionPool(host='amp-api.apps.apple.com', port=443): Max retries exceeded with url: /v1/catalog/us/apps/896628003/reviews?l=en-GB&offset=0&limit=20&platform=web&additionalPlatforms=appletv%2Cipad%2Ciphone%2Cmac (Caused by ResponseError('too many 429 error responses'))\n",
      "2022-08-31 15:05:07,743 [INFO] Base - [id:896628003] Fetched 0 reviews (0 fetched in total)\n"
     ]
    },
    {
     "name": "stdout",
     "output_type": "stream",
     "text": [
      "No results found for US - let's wait a sec, then retry...\n"
     ]
    },
    {
     "name": "stderr",
     "output_type": "stream",
     "text": [
      "2022-08-31 15:05:24,501 [INFO] Base - Initialised: AppStore('us', 'espresso-from-the-economist', 896628003)\n",
      "2022-08-31 15:05:24,502 [INFO] Base - Ready to fetch reviews from: https://apps.apple.com/us/app/espresso-from-the-economist/id896628003\n",
      "2022-08-31 15:05:43,599 [ERROR] Base - Something went wrong: HTTPSConnectionPool(host='amp-api.apps.apple.com', port=443): Max retries exceeded with url: /v1/catalog/us/apps/896628003/reviews?l=en-GB&offset=20&limit=20&platform=web&additionalPlatforms=appletv%2Cipad%2Ciphone%2Cmac (Caused by ResponseError('too many 429 error responses'))\n",
      "2022-08-31 15:05:43,604 [INFO] Base - [id:896628003] Fetched 20 reviews (20 fetched in total)\n"
     ]
    },
    {
     "name": "stdout",
     "output_type": "stream",
     "text": [
      "Found some results for US! Moving on...\n"
     ]
    },
    {
     "name": "stderr",
     "output_type": "stream",
     "text": [
      "2022-08-31 15:05:44,221 [INFO] Base - Initialised: AppStore('gb', 'the-economist', 1239397626)\n",
      "2022-08-31 15:05:44,222 [INFO] Base - Ready to fetch reviews from: https://apps.apple.com/gb/app/the-economist/id1239397626\n",
      "2022-08-31 15:05:50,785 [INFO] Base - [id:1239397626] Fetched 20 reviews (20 fetched in total)\n",
      "2022-08-31 15:06:09,513 [ERROR] Base - Something went wrong: HTTPSConnectionPool(host='amp-api.apps.apple.com', port=443): Max retries exceeded with url: /v1/catalog/gb/apps/1239397626/reviews?l=en-GB&offset=20&limit=20&platform=web&additionalPlatforms=appletv%2Cipad%2Ciphone%2Cmac (Caused by ResponseError('too many 429 error responses'))\n",
      "2022-08-31 15:06:09,518 [INFO] Base - [id:1239397626] Fetched 20 reviews (20 fetched in total)\n"
     ]
    },
    {
     "name": "stdout",
     "output_type": "stream",
     "text": [
      "Found some results for GB! Moving on...\n"
     ]
    },
    {
     "name": "stderr",
     "output_type": "stream",
     "text": [
      "2022-08-31 15:06:10,055 [INFO] Base - Initialised: AppStore('gb', 'espresso-from-the-economist', 896628003)\n",
      "2022-08-31 15:06:10,056 [INFO] Base - Ready to fetch reviews from: https://apps.apple.com/gb/app/espresso-from-the-economist/id896628003\n",
      "2022-08-31 15:06:16,739 [INFO] Base - [id:896628003] Fetched 20 reviews (20 fetched in total)\n",
      "2022-08-31 15:06:35,541 [ERROR] Base - Something went wrong: HTTPSConnectionPool(host='amp-api.apps.apple.com', port=443): Max retries exceeded with url: /v1/catalog/gb/apps/896628003/reviews?l=en-GB&offset=20&limit=20&platform=web&additionalPlatforms=appletv%2Cipad%2Ciphone%2Cmac (Caused by ResponseError('too many 429 error responses'))\n",
      "2022-08-31 15:06:35,544 [INFO] Base - [id:896628003] Fetched 20 reviews (20 fetched in total)\n"
     ]
    },
    {
     "name": "stdout",
     "output_type": "stream",
     "text": [
      "Found some results for GB! Moving on...\n"
     ]
    },
    {
     "name": "stderr",
     "output_type": "stream",
     "text": [
      "2022-08-31 15:06:36,161 [INFO] Base - Initialised: AppStore('ca', 'the-economist', 1239397626)\n",
      "2022-08-31 15:06:36,162 [INFO] Base - Ready to fetch reviews from: https://apps.apple.com/ca/app/the-economist/id1239397626\n",
      "2022-08-31 15:06:54,870 [ERROR] Base - Something went wrong: HTTPSConnectionPool(host='amp-api.apps.apple.com', port=443): Max retries exceeded with url: /v1/catalog/ca/apps/1239397626/reviews?l=en-GB&offset=0&limit=20&platform=web&additionalPlatforms=appletv%2Cipad%2Ciphone%2Cmac (Caused by ResponseError('too many 429 error responses'))\n",
      "2022-08-31 15:06:54,875 [INFO] Base - [id:1239397626] Fetched 0 reviews (0 fetched in total)\n"
     ]
    },
    {
     "name": "stdout",
     "output_type": "stream",
     "text": [
      "No results found for CA - let's wait a sec, then retry...\n"
     ]
    },
    {
     "name": "stderr",
     "output_type": "stream",
     "text": [
      "2022-08-31 15:07:04,953 [INFO] Base - Initialised: AppStore('ca', 'the-economist', 1239397626)\n",
      "2022-08-31 15:07:04,954 [INFO] Base - Ready to fetch reviews from: https://apps.apple.com/ca/app/the-economist/id1239397626\n",
      "2022-08-31 15:07:24,375 [ERROR] Base - Something went wrong: HTTPSConnectionPool(host='amp-api.apps.apple.com', port=443): Max retries exceeded with url: /v1/catalog/ca/apps/1239397626/reviews?l=en-GB&offset=20&limit=20&platform=web&additionalPlatforms=appletv%2Cipad%2Ciphone%2Cmac (Caused by ResponseError('too many 429 error responses'))\n",
      "2022-08-31 15:07:24,380 [INFO] Base - [id:1239397626] Fetched 20 reviews (20 fetched in total)\n"
     ]
    },
    {
     "name": "stdout",
     "output_type": "stream",
     "text": [
      "Found some results for CA! Moving on...\n"
     ]
    },
    {
     "name": "stderr",
     "output_type": "stream",
     "text": [
      "2022-08-31 15:07:25,588 [INFO] Base - Initialised: AppStore('ca', 'espresso-from-the-economist', 896628003)\n",
      "2022-08-31 15:07:25,590 [INFO] Base - Ready to fetch reviews from: https://apps.apple.com/ca/app/espresso-from-the-economist/id896628003\n",
      "2022-08-31 15:07:44,251 [ERROR] Base - Something went wrong: HTTPSConnectionPool(host='amp-api.apps.apple.com', port=443): Max retries exceeded with url: /v1/catalog/ca/apps/896628003/reviews?l=en-GB&offset=0&limit=20&platform=web&additionalPlatforms=appletv%2Cipad%2Ciphone%2Cmac (Caused by ResponseError('too many 429 error responses'))\n",
      "2022-08-31 15:07:44,256 [INFO] Base - [id:896628003] Fetched 0 reviews (0 fetched in total)\n"
     ]
    },
    {
     "name": "stdout",
     "output_type": "stream",
     "text": [
      "No results found for CA - let's wait a sec, then retry...\n"
     ]
    },
    {
     "name": "stderr",
     "output_type": "stream",
     "text": [
      "2022-08-31 15:07:54,349 [INFO] Base - Initialised: AppStore('ca', 'espresso-from-the-economist', 896628003)\n",
      "2022-08-31 15:07:54,350 [INFO] Base - Ready to fetch reviews from: https://apps.apple.com/ca/app/espresso-from-the-economist/id896628003\n",
      "2022-08-31 15:08:12,965 [ERROR] Base - Something went wrong: HTTPSConnectionPool(host='amp-api.apps.apple.com', port=443): Max retries exceeded with url: /v1/catalog/ca/apps/896628003/reviews?l=en-GB&offset=0&limit=20&platform=web&additionalPlatforms=appletv%2Cipad%2Ciphone%2Cmac (Caused by ResponseError('too many 429 error responses'))\n",
      "2022-08-31 15:08:12,971 [INFO] Base - [id:896628003] Fetched 0 reviews (0 fetched in total)\n"
     ]
    },
    {
     "name": "stdout",
     "output_type": "stream",
     "text": [
      "No results found for CA - let's wait a sec, then retry...\n"
     ]
    },
    {
     "name": "stderr",
     "output_type": "stream",
     "text": [
      "2022-08-31 15:08:32,681 [INFO] Base - Initialised: AppStore('ca', 'espresso-from-the-economist', 896628003)\n",
      "2022-08-31 15:08:32,682 [INFO] Base - Ready to fetch reviews from: https://apps.apple.com/ca/app/espresso-from-the-economist/id896628003\n",
      "2022-08-31 15:08:51,235 [ERROR] Base - Something went wrong: HTTPSConnectionPool(host='amp-api.apps.apple.com', port=443): Max retries exceeded with url: /v1/catalog/ca/apps/896628003/reviews?l=en-GB&offset=0&limit=20&platform=web&additionalPlatforms=appletv%2Cipad%2Ciphone%2Cmac (Caused by ResponseError('too many 429 error responses'))\n",
      "2022-08-31 15:08:51,240 [INFO] Base - [id:896628003] Fetched 0 reviews (0 fetched in total)\n"
     ]
    },
    {
     "name": "stdout",
     "output_type": "stream",
     "text": [
      "No results found for CA - let's wait a sec, then retry...\n"
     ]
    },
    {
     "name": "stderr",
     "output_type": "stream",
     "text": [
      "2022-08-31 15:09:05,297 [INFO] Base - Initialised: AppStore('ca', 'espresso-from-the-economist', 896628003)\n",
      "2022-08-31 15:09:05,298 [INFO] Base - Ready to fetch reviews from: https://apps.apple.com/ca/app/espresso-from-the-economist/id896628003\n",
      "2022-08-31 15:09:23,849 [ERROR] Base - Something went wrong: HTTPSConnectionPool(host='amp-api.apps.apple.com', port=443): Max retries exceeded with url: /v1/catalog/ca/apps/896628003/reviews?l=en-GB&offset=0&limit=20&platform=web&additionalPlatforms=appletv%2Cipad%2Ciphone%2Cmac (Caused by ResponseError('too many 429 error responses'))\n",
      "2022-08-31 15:09:23,855 [INFO] Base - [id:896628003] Fetched 0 reviews (0 fetched in total)\n"
     ]
    },
    {
     "name": "stdout",
     "output_type": "stream",
     "text": [
      "No results found for CA - let's wait a sec, then retry...\n"
     ]
    },
    {
     "name": "stderr",
     "output_type": "stream",
     "text": [
      "2022-08-31 15:09:40,416 [INFO] Base - Initialised: AppStore('ca', 'espresso-from-the-economist', 896628003)\n",
      "2022-08-31 15:09:40,417 [INFO] Base - Ready to fetch reviews from: https://apps.apple.com/ca/app/espresso-from-the-economist/id896628003\n",
      "2022-08-31 15:09:58,882 [ERROR] Base - Something went wrong: HTTPSConnectionPool(host='amp-api.apps.apple.com', port=443): Max retries exceeded with url: /v1/catalog/ca/apps/896628003/reviews?l=en-GB&offset=0&limit=20&platform=web&additionalPlatforms=appletv%2Cipad%2Ciphone%2Cmac (Caused by ResponseError('too many 429 error responses'))\n",
      "2022-08-31 15:09:58,888 [INFO] Base - [id:896628003] Fetched 0 reviews (0 fetched in total)\n"
     ]
    },
    {
     "name": "stdout",
     "output_type": "stream",
     "text": [
      "No results found for CA - let's wait a sec, then retry...\n"
     ]
    },
    {
     "name": "stderr",
     "output_type": "stream",
     "text": [
      "2022-08-31 15:10:16,957 [INFO] Base - Initialised: AppStore('ca', 'espresso-from-the-economist', 896628003)\n",
      "2022-08-31 15:10:16,958 [INFO] Base - Ready to fetch reviews from: https://apps.apple.com/ca/app/espresso-from-the-economist/id896628003\n"
     ]
    }
   ],
   "source": [
    "reviews = scraper.get_all_reviews()\n",
    "# US failed for espresso and economist (just 20 reviews)\n",
    "# "
   ]
  },
  {
   "cell_type": "code",
   "execution_count": null,
   "metadata": {},
   "outputs": [],
   "source": [
    "reviews.to_parquet('/Users/dominicbates/Documents/GitHub/app-review-classifier/data/training_sample/raw_review_data.parquet')\n"
   ]
  },
  {
   "cell_type": "markdown",
   "metadata": {},
   "source": [
    "### Check updating procedure"
   ]
  },
  {
   "cell_type": "code",
   "execution_count": 9,
   "metadata": {},
   "outputs": [
    {
     "data": {
      "text/html": [
       "<div>\n",
       "<style scoped>\n",
       "    .dataframe tbody tr th:only-of-type {\n",
       "        vertical-align: middle;\n",
       "    }\n",
       "\n",
       "    .dataframe tbody tr th {\n",
       "        vertical-align: top;\n",
       "    }\n",
       "\n",
       "    .dataframe thead th {\n",
       "        text-align: right;\n",
       "    }\n",
       "</style>\n",
       "<table border=\"1\" class=\"dataframe\">\n",
       "  <thead>\n",
       "    <tr style=\"text-align: right;\">\n",
       "      <th></th>\n",
       "      <th>date</th>\n",
       "      <th>title</th>\n",
       "      <th>review</th>\n",
       "      <th>rating</th>\n",
       "      <th>app</th>\n",
       "    </tr>\n",
       "  </thead>\n",
       "  <tbody>\n",
       "    <tr>\n",
       "      <th>0</th>\n",
       "      <td>2021-12-01 12:37:22</td>\n",
       "      <td>Great App, fantastic content and journalism.</td>\n",
       "      <td>I’m new to The Economist after a suggestion fr...</td>\n",
       "      <td>5</td>\n",
       "      <td>The Economist (Apple)</td>\n",
       "    </tr>\n",
       "    <tr>\n",
       "      <th>1</th>\n",
       "      <td>2021-07-30 13:27:59</td>\n",
       "      <td>Very unbiased, Economics is the perspective</td>\n",
       "      <td>I love this mag. I mean I really do (Econ Majo...</td>\n",
       "      <td>5</td>\n",
       "      <td>The Economist (Apple)</td>\n",
       "    </tr>\n",
       "    <tr>\n",
       "      <th>2</th>\n",
       "      <td>2020-05-04 19:28:02</td>\n",
       "      <td>News, but better.</td>\n",
       "      <td>I never personally thought I’d be writing a re...</td>\n",
       "      <td>5</td>\n",
       "      <td>The Economist (Apple)</td>\n",
       "    </tr>\n",
       "    <tr>\n",
       "      <th>3</th>\n",
       "      <td>2022-03-17 00:50:31</td>\n",
       "      <td>Feedback on v3 update</td>\n",
       "      <td>Great app overall. Putting three stars to elev...</td>\n",
       "      <td>5</td>\n",
       "      <td>The Economist (Apple)</td>\n",
       "    </tr>\n",
       "    <tr>\n",
       "      <th>4</th>\n",
       "      <td>2019-10-12 13:56:23</td>\n",
       "      <td>Improving but still poor for offline access.</td>\n",
       "      <td>- I wish I could download all the images in ad...</td>\n",
       "      <td>5</td>\n",
       "      <td>The Economist (Apple)</td>\n",
       "    </tr>\n",
       "    <tr>\n",
       "      <th>...</th>\n",
       "      <td>...</td>\n",
       "      <td>...</td>\n",
       "      <td>...</td>\n",
       "      <td>...</td>\n",
       "      <td>...</td>\n",
       "    </tr>\n",
       "    <tr>\n",
       "      <th>15904</th>\n",
       "      <td>2014-11-06 21:22:55</td>\n",
       "      <td></td>\n",
       "      <td>1 download and more than 3 reviews ? Can someo...</td>\n",
       "      <td>3</td>\n",
       "      <td>Espresso (Google)</td>\n",
       "    </tr>\n",
       "    <tr>\n",
       "      <th>15905</th>\n",
       "      <td>2014-11-06 19:08:01</td>\n",
       "      <td></td>\n",
       "      <td>Great app. I'm a big fan of digestible news, o...</td>\n",
       "      <td>5</td>\n",
       "      <td>Espresso (Google)</td>\n",
       "    </tr>\n",
       "    <tr>\n",
       "      <th>15906</th>\n",
       "      <td>2014-11-06 18:13:33</td>\n",
       "      <td></td>\n",
       "      <td>This is what I would expect from The Economist...</td>\n",
       "      <td>5</td>\n",
       "      <td>Espresso (Google)</td>\n",
       "    </tr>\n",
       "    <tr>\n",
       "      <th>15907</th>\n",
       "      <td>2014-11-06 17:22:13</td>\n",
       "      <td></td>\n",
       "      <td>I'm happy to see Economist taking its 'finisha...</td>\n",
       "      <td>5</td>\n",
       "      <td>Espresso (Google)</td>\n",
       "    </tr>\n",
       "    <tr>\n",
       "      <th>15908</th>\n",
       "      <td>2014-11-06 16:32:18</td>\n",
       "      <td></td>\n",
       "      <td>Well Done</td>\n",
       "      <td>5</td>\n",
       "      <td>Espresso (Google)</td>\n",
       "    </tr>\n",
       "  </tbody>\n",
       "</table>\n",
       "<p>15909 rows × 5 columns</p>\n",
       "</div>"
      ],
      "text/plain": [
       "                     date                                         title  \\\n",
       "0     2021-12-01 12:37:22  Great App, fantastic content and journalism.   \n",
       "1     2021-07-30 13:27:59   Very unbiased, Economics is the perspective   \n",
       "2     2020-05-04 19:28:02                             News, but better.   \n",
       "3     2022-03-17 00:50:31                         Feedback on v3 update   \n",
       "4     2019-10-12 13:56:23  Improving but still poor for offline access.   \n",
       "...                   ...                                           ...   \n",
       "15904 2014-11-06 21:22:55                                                 \n",
       "15905 2014-11-06 19:08:01                                                 \n",
       "15906 2014-11-06 18:13:33                                                 \n",
       "15907 2014-11-06 17:22:13                                                 \n",
       "15908 2014-11-06 16:32:18                                                 \n",
       "\n",
       "                                                  review  rating  \\\n",
       "0      I’m new to The Economist after a suggestion fr...       5   \n",
       "1      I love this mag. I mean I really do (Econ Majo...       5   \n",
       "2      I never personally thought I’d be writing a re...       5   \n",
       "3      Great app overall. Putting three stars to elev...       5   \n",
       "4      - I wish I could download all the images in ad...       5   \n",
       "...                                                  ...     ...   \n",
       "15904  1 download and more than 3 reviews ? Can someo...       3   \n",
       "15905  Great app. I'm a big fan of digestible news, o...       5   \n",
       "15906  This is what I would expect from The Economist...       5   \n",
       "15907  I'm happy to see Economist taking its 'finisha...       5   \n",
       "15908                                          Well Done       5   \n",
       "\n",
       "                         app  \n",
       "0      The Economist (Apple)  \n",
       "1      The Economist (Apple)  \n",
       "2      The Economist (Apple)  \n",
       "3      The Economist (Apple)  \n",
       "4      The Economist (Apple)  \n",
       "...                      ...  \n",
       "15904      Espresso (Google)  \n",
       "15905      Espresso (Google)  \n",
       "15906      Espresso (Google)  \n",
       "15907      Espresso (Google)  \n",
       "15908      Espresso (Google)  \n",
       "\n",
       "[15909 rows x 5 columns]"
      ]
     },
     "execution_count": 9,
     "metadata": {},
     "output_type": "execute_result"
    }
   ],
   "source": [
    "def update_reviews_df(df):\n",
    "    # Gets all reviews, and then adds any new reviews to existing dataframe\n",
    "    # This function exists as sometimes countries can fail mid-way, meaning it outputs\n",
    "    # only a subsample of total reviews. This ensures, reviews will be picked up next time \n",
    "    # the function is run, and if a country fails, but the review is already in the old dataframe, \n",
    "    # it will still be kept\n",
    "    new_reviews = get_all_reviews(country_list = None)\n",
    "    \n",
    "    # Combine dataframes\n",
    "    combined_df = pd.concat( [test[0:10],test[8:12]]).reset_index(drop=True)\n",
    "\n",
    "    # Remove any duplictaed rows (i.e. share the same uniqueid)\n",
    "    combined_df = combined_df.sort_values(['title', 'date'],\n",
    "                                       ascending = [True, False]).reset_index(drop=True)\n",
    "    combined_df = combined_df.groupby('title',as_index=False).first().reset_index(drop=True)\n",
    "    \n",
    "    \n",
    "    print('\\nOriginal review dataframe length:',len(df))\n",
    "    print('New review dataframe length:',len(new_reviews))\n",
    "    print('Overlapping reviews:',len(combined_df))\n",
    "    return combined_df\n",
    "\n"
   ]
  },
  {
   "cell_type": "code",
   "execution_count": 3,
   "metadata": {},
   "outputs": [
    {
     "name": "stderr",
     "output_type": "stream",
     "text": [
      "2022-08-31 13:46:12,657 [INFO] Base - Initialised: AppStore('us', 'the-economist', 1239397626)\n",
      "2022-08-31 13:46:12,658 [INFO] Base - Ready to fetch reviews from: https://apps.apple.com/us/app/the-economist/id1239397626\n",
      "2022-08-31 13:46:31,650 [ERROR] Base - Something went wrong: HTTPSConnectionPool(host='amp-api.apps.apple.com', port=443): Max retries exceeded with url: /v1/catalog/us/apps/1239397626/reviews?l=en-GB&offset=20&limit=20&platform=web&additionalPlatforms=appletv%2Cipad%2Ciphone%2Cmac (Caused by ResponseError('too many 429 error responses'))\n",
      "2022-08-31 13:46:31,655 [INFO] Base - [id:1239397626] Fetched 20 reviews (20 fetched in total)\n"
     ]
    },
    {
     "name": "stdout",
     "output_type": "stream",
     "text": [
      "Found some results for US! Moving on...\n"
     ]
    }
   ],
   "source": [
    "# for n in range(10):\n",
    "#     test= scraper.get_apple_reviews('espresso-from-the-economist', app_id='896628003', country='US')\n",
    "    \n",
    "\n",
    "    \n",
    "t1 = scraper.get_apple_reviews('the-economist', app_id='1239397626', country='US')\n",
    "# t2 = scraper.get_apple_reviews('espresso-from-the-economist', app_id='896628003', country='GB')\n",
    "# t3 = scraper.get_google_reviews('com.economist.lamarr', country='US', lang='EN') # I think this is is all english reviews worldwide\n",
    "# t4 = scraper.get_google_reviews('com.economist.darwin', country='US', lang='EN') # I think this is is all english reviews worldwide\n",
    " "
   ]
  },
  {
   "cell_type": "code",
   "execution_count": 9,
   "metadata": {},
   "outputs": [
    {
     "data": {
      "text/plain": [
       "20"
      ]
     },
     "execution_count": 9,
     "metadata": {},
     "output_type": "execute_result"
    }
   ],
   "source": [
    "len(t1)"
   ]
  },
  {
   "cell_type": "code",
   "execution_count": null,
   "metadata": {},
   "outputs": [],
   "source": [
    "reviews.to_csv('/Users/dominicbates/Documents/GitHub/app-review-classifier/data/training_sample/raw_review_data.csv')"
   ]
  }
 ],
 "metadata": {
  "kernelspec": {
   "display_name": "Python 3",
   "language": "python",
   "name": "python3"
  },
  "language_info": {
   "codemirror_mode": {
    "name": "ipython",
    "version": 3
   },
   "file_extension": ".py",
   "mimetype": "text/x-python",
   "name": "python",
   "nbconvert_exporter": "python",
   "pygments_lexer": "ipython3",
   "version": "3.7.4"
  }
 },
 "nbformat": 4,
 "nbformat_minor": 2
}
