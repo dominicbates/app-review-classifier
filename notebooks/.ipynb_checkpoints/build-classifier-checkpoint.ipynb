{
 "cells": [
  {
   "cell_type": "markdown",
   "metadata": {},
   "source": [
    "### Load modules"
   ]
  },
  {
   "cell_type": "code",
   "execution_count": 13,
   "metadata": {},
   "outputs": [],
   "source": [
    "import pandas as pd\n",
    "import numpy as np\n",
    "import matplotlib.pyplot as plt\n",
    "from sklearn.feature_extraction.text import TfidfVectorizer\n",
    "from sklearn.linear_model import LogisticRegression\n",
    "from sklearn.naive_bayes import MultinomialNB\n",
    "from sklearn.tree import DecisionTreeClassifier\n",
    "from sklearn.svm import LinearSVC\n",
    "from sklearn.metrics import confusion_matrix\n",
    "from sklearn.metrics import accuracy_score\n",
    "\n",
    "%config InlineBackend.figure_format = 'retina'\n",
    "plt.style.use('ggplot')"
   ]
  },
  {
   "cell_type": "markdown",
   "metadata": {},
   "source": [
    "### Load data and create fake categories"
   ]
  },
  {
   "cell_type": "code",
   "execution_count": 14,
   "metadata": {},
   "outputs": [],
   "source": [
    "reviews_df = pd.read_parquet('/Users/dominicbates/Documents/GitHub/app-review-classifier/data/reviews_sample.parquet')\n"
   ]
  },
  {
   "cell_type": "code",
   "execution_count": 15,
   "metadata": {},
   "outputs": [],
   "source": [
    "reviews_df['classification'] = ''\n",
    "reviews_df.loc[(reviews_df['rating']>=4), ['classification']] = 'Positive'\n",
    "reviews_df.loc[(reviews_df['rating']<=2), ['classification']] = 'Negative'\n",
    "reviews_df.loc[(reviews_df['rating']==3), ['classification']] = 'Mixed'\n"
   ]
  },
  {
   "cell_type": "code",
   "execution_count": 16,
   "metadata": {},
   "outputs": [
    {
     "data": {
      "text/html": [
       "<div>\n",
       "<style scoped>\n",
       "    .dataframe tbody tr th:only-of-type {\n",
       "        vertical-align: middle;\n",
       "    }\n",
       "\n",
       "    .dataframe tbody tr th {\n",
       "        vertical-align: top;\n",
       "    }\n",
       "\n",
       "    .dataframe thead th {\n",
       "        text-align: right;\n",
       "    }\n",
       "</style>\n",
       "<table border=\"1\" class=\"dataframe\">\n",
       "  <thead>\n",
       "    <tr style=\"text-align: right;\">\n",
       "      <th></th>\n",
       "      <th>date</th>\n",
       "      <th>title</th>\n",
       "      <th>review</th>\n",
       "      <th>rating</th>\n",
       "      <th>app</th>\n",
       "      <th>classification</th>\n",
       "    </tr>\n",
       "  </thead>\n",
       "  <tbody>\n",
       "    <tr>\n",
       "      <th>14899</th>\n",
       "      <td>2014-11-10 02:00:58</td>\n",
       "      <td></td>\n",
       "      <td>Quick</td>\n",
       "      <td>4</td>\n",
       "      <td>Espresso (Google)</td>\n",
       "      <td>Positive</td>\n",
       "    </tr>\n",
       "    <tr>\n",
       "      <th>10145</th>\n",
       "      <td>2018-11-24 15:17:22</td>\n",
       "      <td></td>\n",
       "      <td>Great quickstart to the day</td>\n",
       "      <td>5</td>\n",
       "      <td>Espresso (Google)</td>\n",
       "      <td>Positive</td>\n",
       "    </tr>\n",
       "    <tr>\n",
       "      <th>494</th>\n",
       "      <td>2022-03-15 04:17:44</td>\n",
       "      <td>Piece of crap</td>\n",
       "      <td>Instructions to link my $189 Itunes-purchased ...</td>\n",
       "      <td>1</td>\n",
       "      <td>The Economist (Apple)</td>\n",
       "      <td>Negative</td>\n",
       "    </tr>\n",
       "    <tr>\n",
       "      <th>8878</th>\n",
       "      <td>2020-04-15 08:37:41</td>\n",
       "      <td></td>\n",
       "      <td>Great to get informed quickly about main news ...</td>\n",
       "      <td>5</td>\n",
       "      <td>Espresso (Google)</td>\n",
       "      <td>Positive</td>\n",
       "    </tr>\n",
       "    <tr>\n",
       "      <th>2930</th>\n",
       "      <td>2017-07-05 15:43:52</td>\n",
       "      <td>Terrific app. One feature request</td>\n",
       "      <td>Love this informative, lightweight, and intuit...</td>\n",
       "      <td>5</td>\n",
       "      <td>Espresso (Apple)</td>\n",
       "      <td>Positive</td>\n",
       "    </tr>\n",
       "  </tbody>\n",
       "</table>\n",
       "</div>"
      ],
      "text/plain": [
       "                     date                              title  \\\n",
       "14899 2014-11-10 02:00:58                                      \n",
       "10145 2018-11-24 15:17:22                                      \n",
       "494   2022-03-15 04:17:44                      Piece of crap   \n",
       "8878  2020-04-15 08:37:41                                      \n",
       "2930  2017-07-05 15:43:52  Terrific app. One feature request   \n",
       "\n",
       "                                                  review  rating  \\\n",
       "14899                                              Quick       4   \n",
       "10145                        Great quickstart to the day       5   \n",
       "494    Instructions to link my $189 Itunes-purchased ...       1   \n",
       "8878   Great to get informed quickly about main news ...       5   \n",
       "2930   Love this informative, lightweight, and intuit...       5   \n",
       "\n",
       "                         app classification  \n",
       "14899      Espresso (Google)       Positive  \n",
       "10145      Espresso (Google)       Positive  \n",
       "494    The Economist (Apple)       Negative  \n",
       "8878       Espresso (Google)       Positive  \n",
       "2930        Espresso (Apple)       Positive  "
      ]
     },
     "execution_count": 16,
     "metadata": {},
     "output_type": "execute_result"
    }
   ],
   "source": [
    "reviews_df.sample(100,random_state=12345).head()"
   ]
  },
  {
   "cell_type": "markdown",
   "metadata": {},
   "source": [
    "### Set up samples"
   ]
  },
  {
   "cell_type": "code",
   "execution_count": 17,
   "metadata": {},
   "outputs": [
    {
     "name": "stdout",
     "output_type": "stream",
     "text": [
      "Total data size: 14986\n",
      "----------------------\n",
      "Training size: 11911\n",
      "Validation size: 1619\n",
      "Test size: 1456\n"
     ]
    }
   ],
   "source": [
    "m_train = (reviews_df['date'] < '2021-06-01')\n",
    "m_valid = (reviews_df['date'] >= '2021-06-01') & (reviews_df['date'] < '2022-01-01')\n",
    "m_test = (reviews_df['date'] >= '2022-01-01')\n",
    "\n",
    "print('Total data size:',len(reviews_df))\n",
    "print('----------------------')\n",
    "print('Training size:',m_train.sum())\n",
    "print('Validation size:',m_valid.sum())\n",
    "print('Test size:',m_test.sum())\n",
    "\n",
    "df_train = reviews_df[m_train].reset_index(drop=True)\n",
    "df_valid = reviews_df[m_valid].reset_index(drop=True)\n",
    "df_test = reviews_df[m_test].reset_index(drop=True)\n"
   ]
  },
  {
   "cell_type": "code",
   "execution_count": null,
   "metadata": {},
   "outputs": [],
   "source": []
  },
  {
   "cell_type": "markdown",
   "metadata": {},
   "source": [
    "### Create tokeniser"
   ]
  },
  {
   "cell_type": "code",
   "execution_count": 18,
   "metadata": {},
   "outputs": [
    {
     "data": {
      "text/plain": [
       "TfidfVectorizer(min_df=10)"
      ]
     },
     "execution_count": 18,
     "metadata": {},
     "output_type": "execute_result"
    }
   ],
   "source": [
    "vectorizer = TfidfVectorizer(min_df=10, ngram_range=(1, 1)) # Arbitary params try others? bigrams? ngram_range=(1, 2)\n",
    "vectorizer.fit(df_train['review'])"
   ]
  },
  {
   "cell_type": "code",
   "execution_count": 19,
   "metadata": {},
   "outputs": [],
   "source": [
    "train_X = vectorizer.transform(df_train['review'])\n",
    "valid_X = vectorizer.transform(df_valid['review'])\n",
    "test_X = vectorizer.transform(df_test['review'])"
   ]
  },
  {
   "cell_type": "code",
   "execution_count": 20,
   "metadata": {},
   "outputs": [],
   "source": [
    "train_y = df_train['classification']\n",
    "valid_y = df_valid['classification']\n",
    "test_y = df_test['classification']"
   ]
  },
  {
   "cell_type": "markdown",
   "metadata": {},
   "source": [
    "### Create model class"
   ]
  },
  {
   "cell_type": "code",
   "execution_count": 28,
   "metadata": {},
   "outputs": [],
   "source": [
    "class Classifier:\n",
    "    def __init__(self, \n",
    "                 classifier='LogisticRegression'):\n",
    "        \n",
    "        # Check input first\n",
    "        classifiers_list = ['LogisticRegression',\n",
    "                            'MultinomialNB',\n",
    "                            'DecisionTreeClassifier'] # No 'LinearSVC' this because no predict_proba()\n",
    "        if classifier not in classifiers_list:\n",
    "            raise ValueError('Classifier \"'+str(classifier)+'\" not in list. Try one of:',classifiers_list)\n",
    "        \n",
    "        # Get relevant model\n",
    "        self.classifier = classifier\n",
    "        if classifier == 'LogisticRegression':\n",
    "            self.model = LogisticRegression(C=2, penalty = 'l2', max_iter=1000, random_state=0)\n",
    "        elif classifier == 'MultinomialNB':\n",
    "            self.model = MultinomialNB()\n",
    "        elif classifier == 'DecisionTreeClassifier':\n",
    "            self.model = DecisionTreeClassifier(random_state=0)\n",
    "        self.vectorizer = None\n",
    "        self.model_fit = False\n",
    "            \n",
    "            \n",
    "    def fit_vectorizer(self, raw_text):\n",
    "        self.vectorizer = TfidfVectorizer(min_df=5, ngram_range=(1, 1)) # Arbitary params try others? bigrams? ngram_range=(1, 2)\n",
    "        self.vectorizer.fit(raw_text)\n",
    "        \n",
    "        \n",
    "    def apply_vectorizer(self, raw_text):\n",
    "        if self.vectorizer is None:\n",
    "            raise ValueError('Vectorizer not trained yet. Run fit_vectorizer() on raw text')\n",
    "        else:\n",
    "            return self.vectorizer.transform(raw_text)\n",
    "            \n",
    "            \n",
    "    def fit_model(self, vals_X, vals_y):\n",
    "        self.model.fit(vals_X, vals_y)\n",
    "        pred_y = self.apply_model(vals_X)\n",
    "        self.print_confusion_matrix(vals_y, pred_y)\n",
    "        \n",
    "        \n",
    "    def apply_model(self, vals_X):\n",
    "        if self.model_fit is None:\n",
    "            raise ValueError('Model not trained yet. Run fit_model() first')\n",
    "        else:\n",
    "            return self.model.predict(vals_X)\n",
    "\n",
    "    \n",
    "    def apply_model_proba(self, vals_X):\n",
    "        if self.model_fit is None:\n",
    "            raise ValueError('Model not trained yet. Run fit_model() first')\n",
    "        else:\n",
    "            return self.model.predict_proba(vals_X)\n",
    "    \n",
    "    \n",
    "    def print_confusion_matrix(self, vals_y, pred_y, output_accuracy=False, output_confusion=False):\n",
    "        print('Confusion matrix:')\n",
    "        conf = confusion_matrix(vals_y, pred_y)\n",
    "        print(conf)\n",
    "        \n",
    "        print('\\nAccuracy:')\n",
    "        acc = accuracy_score(vals_y, pred_y)\n",
    "        print(acc)\n",
    "        \n",
    "        if output_accuracy is True:\n",
    "            return acc\n",
    "        elif output_confusion is True:\n",
    "            return conf\n",
    "            \n",
    "        \n",
    "        \n",
    "    def print_top_words(self, vectorizer, n = 100):\n",
    "\n",
    "        for c in range(0,len(self.model.classes_)):\n",
    "            top_ind = np.argsort(self.model.coef_[c])[-1*n:][::-1]\n",
    "            top_vals = ([self.model.coef_[c][i] for i in top_ind])\n",
    "\n",
    "            inverse_vocabulary = dict((v,k) for k,v in vectorizer.vocabulary_.items())\n",
    "            print('Top words for category:',self.model.classes_[c])\n",
    "            words = [inverse_vocabulary[n]+', ' for n in top_ind]\n",
    "            print(''.join(words)[:-2])\n",
    "            print('')\n",
    "\n",
    "        return"
   ]
  },
  {
   "cell_type": "code",
   "execution_count": null,
   "metadata": {},
   "outputs": [],
   "source": []
  },
  {
   "cell_type": "code",
   "execution_count": 22,
   "metadata": {},
   "outputs": [
    {
     "name": "stdout",
     "output_type": "stream",
     "text": [
      "Confusion matrix:\n",
      "[[ 114  128  339]\n",
      " [   9 1371  317]\n",
      " [  15  189 9429]]\n",
      "\n",
      "Accuracy:\n",
      "0.9162958609688523\n"
     ]
    }
   ],
   "source": [
    "test_model = Classifier(classifier='LogisticRegression')\n",
    "\n",
    "test_model.fit_model(train_X, train_y)\n",
    "\n"
   ]
  },
  {
   "cell_type": "code",
   "execution_count": 23,
   "metadata": {},
   "outputs": [
    {
     "name": "stdout",
     "output_type": "stream",
     "text": [
      "Confusion matrix:\n",
      "[[  7  67  67]\n",
      " [  5 416 131]\n",
      " [ 11  52 863]]\n",
      "\n",
      "Accuracy:\n",
      "0.7943174799258802\n"
     ]
    },
    {
     "data": {
      "text/plain": [
       "0.7943174799258802"
      ]
     },
     "execution_count": 23,
     "metadata": {},
     "output_type": "execute_result"
    }
   ],
   "source": [
    "valid_preds = test_model.apply_model(valid_X)\n",
    "test_model.print_confusion_matrix(df_valid['classification'],valid_preds, output_accuracy = True)"
   ]
  },
  {
   "cell_type": "code",
   "execution_count": 24,
   "metadata": {},
   "outputs": [
    {
     "data": {
      "text/plain": [
       "array([0.0182832 , 0.07141499, 0.91030181])"
      ]
     },
     "execution_count": 24,
     "metadata": {},
     "output_type": "execute_result"
    }
   ],
   "source": [
    "test_model.apply_model_proba(valid_X)[17]"
   ]
  },
  {
   "cell_type": "code",
   "execution_count": 25,
   "metadata": {},
   "outputs": [
    {
     "name": "stdout",
     "output_type": "stream",
     "text": [
      "Row 17 of validation sample\n",
      "---------------------------\n",
      "\n",
      "- True classification:\n",
      "Positive (5/5):\n",
      "\n",
      "- Model Pred:\n",
      "Positive\n",
      "\n",
      "- Text:\n",
      "Since the start of the pandemic my job has essentially become reading and writing complex, dry, data intensive reports day in & day out.  We should all value informed and intelligent analysis of our world. But I just cannot bring myself to read for pleasure given the current work load.  Then those clever devils at the economist decided to read the stories for us!  Amazing!  I can listen on the drive to work, be informed, and not read?!  Totally worth the monthly fee.\n"
     ]
    }
   ],
   "source": [
    "n = 17\n",
    "\n",
    "print('Row',n,'of validation sample')\n",
    "print('---------------------------')\n",
    "print('\\n- True classification:')\n",
    "print(df_valid['classification'][n] + ' (' + str(df_valid['rating'][n])+'/5):')\n",
    "print('\\n- Model Pred:')\n",
    "print(valid_preds[n])\n",
    "print('\\n- Text:')\n",
    "print(df_valid['review'][n])"
   ]
  },
  {
   "cell_type": "code",
   "execution_count": 26,
   "metadata": {},
   "outputs": [
    {
     "data": {
      "text/plain": [
       "Counter({'Positive': 926, 'Negative': 552, 'Mixed': 141})"
      ]
     },
     "execution_count": 26,
     "metadata": {},
     "output_type": "execute_result"
    }
   ],
   "source": [
    "from collections import Counter\n",
    "Counter(df_valid['classification'])"
   ]
  },
  {
   "cell_type": "code",
   "execution_count": null,
   "metadata": {},
   "outputs": [],
   "source": []
  },
  {
   "cell_type": "markdown",
   "metadata": {},
   "source": [
    "### Test how training sample size affects preds"
   ]
  },
  {
   "cell_type": "code",
   "execution_count": 88,
   "metadata": {},
   "outputs": [
    {
     "name": "stdout",
     "output_type": "stream",
     "text": [
      "\n",
      "Model 25 \n",
      "***********\n",
      "\n",
      "Confusion matrix:\n",
      "[[ 0  2]\n",
      " [ 0 23]]\n",
      "\n",
      "Accuracy:\n",
      "0.92\n",
      "Confusion matrix:\n",
      "[[  0   0 141]\n",
      " [  0   0 552]\n",
      " [  0   0 926]]\n",
      "\n",
      "Accuracy:\n",
      "0.5719579987646696\n",
      "\n",
      "Model 50 \n",
      "***********\n",
      "\n",
      "Confusion matrix:\n",
      "[[ 0  0  2]\n",
      " [ 0  0  4]\n",
      " [ 0  0 44]]\n",
      "\n",
      "Accuracy:\n",
      "0.88\n",
      "Confusion matrix:\n",
      "[[  0   0 141]\n",
      " [  0   0 552]\n",
      " [  0   0 926]]\n",
      "\n",
      "Accuracy:\n",
      "0.5719579987646696\n",
      "\n",
      "Model 75 \n",
      "***********\n",
      "\n",
      "Confusion matrix:\n",
      "[[ 0  0  4]\n",
      " [ 0  0  7]\n",
      " [ 0  0 64]]\n",
      "\n",
      "Accuracy:\n",
      "0.8533333333333334\n",
      "Confusion matrix:\n",
      "[[  0   0 141]\n",
      " [  0   0 552]\n",
      " [  0   0 926]]\n",
      "\n",
      "Accuracy:\n",
      "0.5719579987646696\n",
      "\n",
      "Model 100 \n",
      "***********\n",
      "\n",
      "Confusion matrix:\n",
      "[[ 0  0  7]\n",
      " [ 0  1  9]\n",
      " [ 0  0 83]]\n",
      "\n",
      "Accuracy:\n",
      "0.84\n",
      "Confusion matrix:\n",
      "[[  0   0 141]\n",
      " [  0   0 552]\n",
      " [  0   0 926]]\n",
      "\n",
      "Accuracy:\n",
      "0.5719579987646696\n",
      "\n",
      "Model 150 \n",
      "***********\n",
      "\n",
      "Confusion matrix:\n",
      "[[  0   0  10]\n",
      " [  0   8   8]\n",
      " [  0   0 124]]\n",
      "\n",
      "Accuracy:\n",
      "0.88\n",
      "Confusion matrix:\n",
      "[[  0   0 141]\n",
      " [  0   0 552]\n",
      " [  0   0 926]]\n",
      "\n",
      "Accuracy:\n",
      "0.5719579987646696\n",
      "\n",
      "Model 200 \n",
      "***********\n",
      "\n",
      "Confusion matrix:\n",
      "[[  0   0  14]\n",
      " [  0  18   7]\n",
      " [  0   0 161]]\n",
      "\n",
      "Accuracy:\n",
      "0.895\n",
      "Confusion matrix:\n",
      "[[  0   0 141]\n",
      " [  0   3 549]\n",
      " [  0   1 925]]\n",
      "\n",
      "Accuracy:\n",
      "0.5731933292155652\n",
      "\n",
      "Model 250 \n",
      "***********\n",
      "\n",
      "Confusion matrix:\n",
      "[[  0   0  16]\n",
      " [  0  22  11]\n",
      " [  0   0 201]]\n",
      "\n",
      "Accuracy:\n",
      "0.892\n",
      "Confusion matrix:\n",
      "[[  0   1 140]\n",
      " [  0  10 542]\n",
      " [  0   3 923]]\n",
      "\n",
      "Accuracy:\n",
      "0.5762816553428042\n",
      "\n",
      "Model 300 \n",
      "***********\n",
      "\n",
      "Confusion matrix:\n",
      "[[  0   0  18]\n",
      " [  0  26  12]\n",
      " [  0   0 244]]\n",
      "\n",
      "Accuracy:\n",
      "0.9\n",
      "Confusion matrix:\n",
      "[[  0   1 140]\n",
      " [  0  19 533]\n",
      " [  0   6 920]]\n",
      "\n",
      "Accuracy:\n",
      "0.5799876466954911\n",
      "\n",
      "Model 400 \n",
      "***********\n",
      "\n",
      "Confusion matrix:\n",
      "[[  3   0  21]\n",
      " [  0  47  10]\n",
      " [  0   0 319]]\n",
      "\n",
      "Accuracy:\n",
      "0.9225\n",
      "Confusion matrix:\n",
      "[[  0  10 131]\n",
      " [  0  66 486]\n",
      " [  0  14 912]]\n",
      "\n",
      "Accuracy:\n",
      "0.6040765904879555\n",
      "\n",
      "Model 500 \n",
      "***********\n",
      "\n",
      "Confusion matrix:\n",
      "[[  7   0  25]\n",
      " [  0  59  10]\n",
      " [  0   0 399]]\n",
      "\n",
      "Accuracy:\n",
      "0.93\n",
      "Confusion matrix:\n",
      "[[  0  19 122]\n",
      " [  0 102 450]\n",
      " [  0  19 907]]\n",
      "\n",
      "Accuracy:\n",
      "0.6232242124768376\n",
      "\n",
      "Model 750 \n",
      "***********\n",
      "\n",
      "Confusion matrix:\n",
      "[[  9   0  34]\n",
      " [  0  89  12]\n",
      " [  0   0 606]]\n",
      "\n",
      "Accuracy:\n",
      "0.9386666666666666\n",
      "Confusion matrix:\n",
      "[[  0  24 117]\n",
      " [  0 167 385]\n",
      " [  0  29 897]]\n",
      "\n",
      "Accuracy:\n",
      "0.6571957998764669\n",
      "\n",
      "Model 1000 \n",
      "***********\n",
      "\n",
      "Confusion matrix:\n",
      "[[  7   3  42]\n",
      " [  0 115  26]\n",
      " [  0   2 805]]\n",
      "\n",
      "Accuracy:\n",
      "0.927\n",
      "Confusion matrix:\n",
      "[[  0  39 102]\n",
      " [  0 213 339]\n",
      " [  1  44 881]]\n",
      "\n",
      "Accuracy:\n",
      "0.6757257566399012\n",
      "\n",
      "Model 2000 \n",
      "***********\n",
      "\n",
      "Confusion matrix:\n",
      "[[  18   10   64]\n",
      " [   0  250   40]\n",
      " [   0   10 1608]]\n",
      "\n",
      "Accuracy:\n",
      "0.938\n",
      "Confusion matrix:\n",
      "[[  0  52  89]\n",
      " [  1 316 235]\n",
      " [  1  61 864]]\n",
      "\n",
      "Accuracy:\n",
      "0.7288449660284126\n",
      "\n",
      "Model 5000 \n",
      "***********\n",
      "\n",
      "Confusion matrix:\n",
      "[[  59   46  134]\n",
      " [   0  606  116]\n",
      " [   2   49 3988]]\n",
      "\n",
      "Accuracy:\n",
      "0.9306\n",
      "Confusion matrix:\n",
      "[[  0  66  75]\n",
      " [  4 390 158]\n",
      " [  5  60 861]]\n",
      "\n",
      "Accuracy:\n",
      "0.772699197035207\n",
      "\n",
      "Model 11911 \n",
      "***********\n",
      "\n",
      "Confusion matrix:\n",
      "[[ 114  128  339]\n",
      " [   9 1371  317]\n",
      " [  15  189 9429]]\n",
      "\n",
      "Accuracy:\n",
      "0.9162958609688523\n",
      "Confusion matrix:\n",
      "[[  7  67  67]\n",
      " [  5 416 131]\n",
      " [ 11  52 863]]\n",
      "\n",
      "Accuracy:\n",
      "0.7943174799258802\n"
     ]
    }
   ],
   "source": [
    "training_sample_sizes = [25,50,75,100,150,200,250,300,400,500,750,1000,2000,5000,11911]\n",
    "model_accuracy = []\n",
    "\n",
    "\n",
    "for n in range(len(training_sample_sizes)):\n",
    "    # Get model\n",
    "    model = Classifier(classifier='LogisticRegression')\n",
    "    print('\\nModel',training_sample_sizes[n],'\\n***********\\n')\n",
    "    \n",
    "    # Subsample training data\n",
    "    df_train_subs = df_train.sample(training_sample_sizes[n], random_state=1)\n",
    "    train_X = vectorizer.transform(df_train_subs['review'])\n",
    "    train_y = df_train_subs['classification']\n",
    "    \n",
    "    # Fit model \n",
    "    model.fit_model(train_X, train_y)\n",
    "    \n",
    "    # Get accuracy\n",
    "    valid_preds = model.apply_model(valid_X)\n",
    "    model_accuracy.append(model.print_confusion_matrix(df_valid['classification'], valid_preds, output_accuracy = True))\n"
   ]
  },
  {
   "cell_type": "code",
   "execution_count": 95,
   "metadata": {},
   "outputs": [
    {
     "data": {
      "image/png": "[encoded data removed]",
      "text/plain": [
       "<Figure size 432x288 with 1 Axes>"
      ]
     },
     "metadata": {
      "image/png": {
       "height": 265,
       "width": 403
      }
     },
     "output_type": "display_data"
    },
    {
     "data": {
      "image/png": "[encoded data removed]",
      "text/plain": [
       "<Figure size 432x288 with 1 Axes>"
      ]
     },
     "metadata": {
      "image/png": {
       "height": 264,
       "width": 410
      }
     },
     "output_type": "display_data"
    }
   ],
   "source": [
    "plt.plot(training_sample_sizes, model_accuracy)\n",
    "plt.xlabel('Training Sample Size')\n",
    "plt.ylabel('Model Accuracy')\n",
    "plt.semilogx();\n",
    "plt.xlim([100,10000]);\n",
    "plt.ylim([None,0.805])\n",
    "\n",
    "\n",
    "plt.figure()\n",
    "plt.plot(training_sample_sizes, model_accuracy)\n",
    "plt.xlabel('Training Sample Size')\n",
    "plt.ylabel('Model Accuracy')\n",
    "# plt.semilogx();\n",
    "plt.xlim([50,10000]);"
   ]
  },
  {
   "cell_type": "code",
   "execution_count": 29,
   "metadata": {},
   "outputs": [
    {
     "data": {
      "text/html": [
       "<div>\n",
       "<style scoped>\n",
       "    .dataframe tbody tr th:only-of-type {\n",
       "        vertical-align: middle;\n",
       "    }\n",
       "\n",
       "    .dataframe tbody tr th {\n",
       "        vertical-align: top;\n",
       "    }\n",
       "\n",
       "    .dataframe thead th {\n",
       "        text-align: right;\n",
       "    }\n",
       "</style>\n",
       "<table border=\"1\" class=\"dataframe\">\n",
       "  <thead>\n",
       "    <tr style=\"text-align: right;\">\n",
       "      <th></th>\n",
       "      <th>date</th>\n",
       "      <th>title</th>\n",
       "      <th>review</th>\n",
       "      <th>rating</th>\n",
       "      <th>app</th>\n",
       "      <th>classification</th>\n",
       "    </tr>\n",
       "  </thead>\n",
       "  <tbody>\n",
       "    <tr>\n",
       "      <th>7275</th>\n",
       "      <td>2018-09-08 19:01:03</td>\n",
       "      <td></td>\n",
       "      <td>Not free</td>\n",
       "      <td>1</td>\n",
       "      <td>Espresso (Google)</td>\n",
       "      <td>Negative</td>\n",
       "    </tr>\n",
       "    <tr>\n",
       "      <th>4558</th>\n",
       "      <td>2021-01-31 02:00:20</td>\n",
       "      <td></td>\n",
       "      <td>This app is too poor by the standards of The E...</td>\n",
       "      <td>1</td>\n",
       "      <td>The Economist (Google)</td>\n",
       "      <td>Negative</td>\n",
       "    </tr>\n",
       "    <tr>\n",
       "      <th>5261</th>\n",
       "      <td>2020-03-19 16:08:42</td>\n",
       "      <td></td>\n",
       "      <td>Pretty good. Enjoying the new format. Would li...</td>\n",
       "      <td>4</td>\n",
       "      <td>The Economist (Google)</td>\n",
       "      <td>Positive</td>\n",
       "    </tr>\n",
       "  </tbody>\n",
       "</table>\n",
       "</div>"
      ],
      "text/plain": [
       "                    date title  \\\n",
       "7275 2018-09-08 19:01:03         \n",
       "4558 2021-01-31 02:00:20         \n",
       "5261 2020-03-19 16:08:42         \n",
       "\n",
       "                                                 review  rating  \\\n",
       "7275                                           Not free       1   \n",
       "4558  This app is too poor by the standards of The E...       1   \n",
       "5261  Pretty good. Enjoying the new format. Would li...       4   \n",
       "\n",
       "                         app classification  \n",
       "7275       Espresso (Google)       Negative  \n",
       "4558  The Economist (Google)       Negative  \n",
       "5261  The Economist (Google)       Positive  "
      ]
     },
     "execution_count": 29,
     "metadata": {},
     "output_type": "execute_result"
    }
   ],
   "source": [
    "df_train.sample(3, random_state=1)"
   ]
  },
  {
   "cell_type": "code",
   "execution_count": 27,
   "metadata": {},
   "outputs": [
    {
     "name": "stdout",
     "output_type": "stream",
     "text": [
      "Top words for category: Mixed\n",
      "limited, why, but, however, kindle, isn, features, more, notification, often, watch, little, markets, price, shot, button, sure, above, function, needs, push, hopefully, section, like, subscribing, side, frequently, compared, an, feel\n",
      "\n",
      "Top words for category: Negative\n",
      "terrible, awful, useless, worse, log, cancel, dont, doesn, biased, free, bad, horrible, support, money, stuck, unacceptable, hate, not, unable, battery, paid, unfortunately, unsubscribe, stopped, pay, waste, article, difficult, uninstalling, uninstalled\n",
      "\n",
      "Top words for category: Positive\n",
      "easy, great, excellent, world, best, love, perfect, morning, informative, well, concise, bit, espresso, quick, informed, events, thank, enjoy, good, news, wish, economist, wonderful, overall, sweet, simple, awesome, amazing, date, global\n",
      "\n"
     ]
    }
   ],
   "source": [
    "\n",
    "test_model.print_top_words(vectorizer, n = 30)"
   ]
  },
  {
   "cell_type": "code",
   "execution_count": null,
   "metadata": {},
   "outputs": [],
   "source": [
    "\n"
   ]
  },
  {
   "cell_type": "code",
   "execution_count": null,
   "metadata": {},
   "outputs": [],
   "source": []
  },
  {
   "cell_type": "code",
   "execution_count": null,
   "metadata": {},
   "outputs": [],
   "source": []
  },
  {
   "cell_type": "code",
   "execution_count": null,
   "metadata": {},
   "outputs": [],
   "source": []
  }
 ],
 "metadata": {
  "kernelspec": {
   "display_name": "Python 3",
   "language": "python",
   "name": "python3"
  },
  "language_info": {
   "codemirror_mode": {
    "name": "ipython",
    "version": 3
   },
   "file_extension": ".py",
   "mimetype": "text/x-python",
   "name": "python",
   "nbconvert_exporter": "python",
   "pygments_lexer": "ipython3",
   "version": "3.7.4"
  }
 },
 "nbformat": 4,
 "nbformat_minor": 2
}
