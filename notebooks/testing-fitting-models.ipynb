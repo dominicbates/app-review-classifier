{
 "cells": [
  {
   "cell_type": "markdown",
   "metadata": {},
   "source": [
    "### Load some modules"
   ]
  },
  {
   "cell_type": "code",
   "execution_count": 1,
   "metadata": {},
   "outputs": [],
   "source": [
    "import pandas as pd\n",
    "import numpy as np\n",
    "import matplotlib.pyplot as plt\n",
    "\n",
    "import os\n",
    "sub_dir = '/Users/dominicbates/Documents/GitHub/app-review-classifier/'\n",
    "os.chdir(sub_dir)\n",
    "import app_review_classifier.text_processing as processing"
   ]
  },
  {
   "cell_type": "markdown",
   "metadata": {},
   "source": [
    "### Load review data"
   ]
  },
  {
   "cell_type": "code",
   "execution_count": null,
   "metadata": {},
   "outputs": [],
   "source": []
  },
  {
   "cell_type": "code",
   "execution_count": 2,
   "metadata": {},
   "outputs": [],
   "source": [
    "df = pd.read_csv('/Users/dominicbates/Documents/GitHub/app-review-classifier/data/classified_sample_2nd_sep.csv')"
   ]
  },
  {
   "cell_type": "code",
   "execution_count": 3,
   "metadata": {},
   "outputs": [],
   "source": [
    "m_sample = (df['Your Name'] == 'Dom')\n",
    "cleaned_df = df[m_sample] \n",
    "\n",
    "# Remove nulls\n",
    "cleaned_df = cleaned_df[pd.notnull(cleaned_df['Category'])]\n",
    "cleaned_df = cleaned_df[pd.notnull(cleaned_df['Sentiment'])].reset_index(drop=True)\n"
   ]
  },
  {
   "cell_type": "code",
   "execution_count": 8,
   "metadata": {},
   "outputs": [
    {
     "data": {
      "text/html": [
       "<div>\n",
       "<style scoped>\n",
       "    .dataframe tbody tr th:only-of-type {\n",
       "        vertical-align: middle;\n",
       "    }\n",
       "\n",
       "    .dataframe tbody tr th {\n",
       "        vertical-align: top;\n",
       "    }\n",
       "\n",
       "    .dataframe thead th {\n",
       "        text-align: right;\n",
       "    }\n",
       "</style>\n",
       "<table border=\"1\" class=\"dataframe\">\n",
       "  <thead>\n",
       "    <tr style=\"text-align: right;\">\n",
       "      <th></th>\n",
       "      <th>Date</th>\n",
       "      <th>Rating</th>\n",
       "      <th>Title</th>\n",
       "      <th>App</th>\n",
       "      <th>OS</th>\n",
       "      <th>Review</th>\n",
       "      <th>uniqueid</th>\n",
       "      <th>row_created_date</th>\n",
       "      <th>Category</th>\n",
       "      <th>Sentiment</th>\n",
       "      <th>Your Name</th>\n",
       "    </tr>\n",
       "  </thead>\n",
       "  <tbody>\n",
       "    <tr>\n",
       "      <th>0</th>\n",
       "      <td>15-Apr-20</td>\n",
       "      <td>5</td>\n",
       "      <td>Beautiful App - Login Woes</td>\n",
       "      <td>The Economist</td>\n",
       "      <td>iOS</td>\n",
       "      <td>Love the app, beautiful and love the audio int...</td>\n",
       "      <td>apple_The Economist_sirbeeth</td>\n",
       "      <td>01/09/2022 10:00</td>\n",
       "      <td>B</td>\n",
       "      <td>M</td>\n",
       "      <td>Dom</td>\n",
       "    </tr>\n",
       "    <tr>\n",
       "      <th>1</th>\n",
       "      <td>05-Sep-19</td>\n",
       "      <td>1</td>\n",
       "      <td>World in Brief is repeated in Today’s Agenda</td>\n",
       "      <td>Espresso</td>\n",
       "      <td>iOS</td>\n",
       "      <td>The Espresso was good earlier, reading it used...</td>\n",
       "      <td>apple_Espresso_Abyss312</td>\n",
       "      <td>01/09/2022 10:00</td>\n",
       "      <td>J</td>\n",
       "      <td>N</td>\n",
       "      <td>Dom</td>\n",
       "    </tr>\n",
       "    <tr>\n",
       "      <th>2</th>\n",
       "      <td>20-Sep-21</td>\n",
       "      <td>5</td>\n",
       "      <td>Being Brief</td>\n",
       "      <td>The Economist</td>\n",
       "      <td>iOS</td>\n",
       "      <td>The Economist is to be complimented on its “Mo...</td>\n",
       "      <td>apple_The Economist_DVJake</td>\n",
       "      <td>01/09/2022 12:00</td>\n",
       "      <td>J</td>\n",
       "      <td>P</td>\n",
       "      <td>Dom</td>\n",
       "    </tr>\n",
       "    <tr>\n",
       "      <th>3</th>\n",
       "      <td>20-Aug-22</td>\n",
       "      <td>5</td>\n",
       "      <td>ESSENTIAL</td>\n",
       "      <td>The Economist</td>\n",
       "      <td>iOS</td>\n",
       "      <td>Good writing is good thinking with ink (or pix...</td>\n",
       "      <td>apple_The Economist_jhatpro</td>\n",
       "      <td>01/09/2022 12:00</td>\n",
       "      <td>J</td>\n",
       "      <td>P</td>\n",
       "      <td>Dom</td>\n",
       "    </tr>\n",
       "    <tr>\n",
       "      <th>4</th>\n",
       "      <td>08-Mar-21</td>\n",
       "      <td>1</td>\n",
       "      <td>NaN</td>\n",
       "      <td>The Economist</td>\n",
       "      <td>Android</td>\n",
       "      <td>You need to pay for everything?!</td>\n",
       "      <td>google_The Economist_Swadesh</td>\n",
       "      <td>01/09/2022 10:00</td>\n",
       "      <td>O</td>\n",
       "      <td>N</td>\n",
       "      <td>Dom</td>\n",
       "    </tr>\n",
       "  </tbody>\n",
       "</table>\n",
       "</div>"
      ],
      "text/plain": [
       "        Date  Rating                                         Title  \\\n",
       "0  15-Apr-20       5                    Beautiful App - Login Woes   \n",
       "1  05-Sep-19       1  World in Brief is repeated in Today’s Agenda   \n",
       "2  20-Sep-21       5                                   Being Brief   \n",
       "3  20-Aug-22       5                                     ESSENTIAL   \n",
       "4  08-Mar-21       1                                           NaN   \n",
       "\n",
       "             App       OS                                             Review  \\\n",
       "0  The Economist      iOS  Love the app, beautiful and love the audio int...   \n",
       "1       Espresso      iOS  The Espresso was good earlier, reading it used...   \n",
       "2  The Economist      iOS  The Economist is to be complimented on its “Mo...   \n",
       "3  The Economist      iOS  Good writing is good thinking with ink (or pix...   \n",
       "4  The Economist  Android                   You need to pay for everything?!   \n",
       "\n",
       "                       uniqueid  row_created_date Category Sentiment Your Name  \n",
       "0  apple_The Economist_sirbeeth  01/09/2022 10:00        B         M       Dom  \n",
       "1       apple_Espresso_Abyss312  01/09/2022 10:00        J         N       Dom  \n",
       "2    apple_The Economist_DVJake  01/09/2022 12:00        J         P       Dom  \n",
       "3   apple_The Economist_jhatpro  01/09/2022 12:00        J         P       Dom  \n",
       "4  google_The Economist_Swadesh  01/09/2022 10:00        O         N       Dom  "
      ]
     },
     "execution_count": 8,
     "metadata": {},
     "output_type": "execute_result"
    }
   ],
   "source": [
    "cleaned_df.head()"
   ]
  },
  {
   "cell_type": "markdown",
   "metadata": {},
   "source": [
    "### Do text processing and embedding"
   ]
  },
  {
   "cell_type": "code",
   "execution_count": 74,
   "metadata": {},
   "outputs": [],
   "source": [
    "def split_sample(df, frac_train = 0.9, frac_validate = 0.1):\n",
    "  \n",
    "    # Shuffle dataframe\n",
    "    df_shuffled = df.sample(frac=1, random_state=123).reset_index(drop=True)\n",
    "    \n",
    "    # Indexes\n",
    "    train_index = int(len(df)*frac_train)\n",
    "    validate_index = int(len(df)*(frac_train+frac_validate))\n",
    "\n",
    "    # Sample dataframe\n",
    "    df_train = df_shuffled[:train_index]\n",
    "    df_validate = df_shuffled[train_index:validate_index]\n",
    "    df_test = df_shuffled[validate_index:]\n",
    "    \n",
    "    return df_train, df_validate, df_test\n",
    "\n",
    "\n",
    "def process_all_samples(cleaner, embedder, df_train, df_validate, df_test):\n",
    "    train_X = embedder_w2v.apply(cleaner.process_raw_text(df_train['Review']))\n",
    "    validate_X = embedder_w2v.apply(cleaner.process_raw_text(df_validate['Review']))\n",
    "    test_X = embedder_w2v.apply(cleaner.process_raw_text(df_test['Review']))\n",
    "    return train_X, validate_X, test_X\n",
    "\n"
   ]
  },
  {
   "cell_type": "code",
   "execution_count": 34,
   "metadata": {},
   "outputs": [
    {
     "name": "stdout",
     "output_type": "stream",
     "text": [
      "Cleaning up text and removing stopwords...\n",
      "- Text cleaned in: 0.19 seconds\n",
      "\n",
      "Training ngrams...\n",
      "- Training done in: 1.11 seconds\n",
      "\n",
      "Loading spacy model...\n",
      "- Model loaded in: 0.52 seconds\n",
      "\n",
      "Lemmatizing...\n",
      "- Lemmatizing done in: 25.4 seconds\n",
      "Fitting word2vec model...\n",
      "- Setting up model...\n",
      "- Done!\n",
      "- Building Vocab...\n",
      "- Built!\n",
      "- Training Model...\n",
      "- Trained!\n",
      "Fitting tfidf model...\n",
      "- Done!\n"
     ]
    }
   ],
   "source": [
    "cleaner = processing.TextCleaner(config = {'stop_words':True,\n",
    "                                           'ngrams':True,\n",
    "                                           'lemmatization':True})\n",
    "\n",
    "# Train text_cleaner on full sample\n",
    "cleaned_text_all = cleaner.process_raw_text(df['Review'],train_ngrams = True)\n",
    "\n",
    "# Train embedders on full sample\n",
    "embedder_w2v = processing.Embedder(method='word2vec')\n",
    "embedder_tfidf = processing.Embedder(method='tfidf')\n",
    "embedder_w2v.fit(cleaned_text_all)\n",
    "embedder_tfidf.fit(cleaned_text_all)\n"
   ]
  },
  {
   "cell_type": "code",
   "execution_count": 110,
   "metadata": {},
   "outputs": [
    {
     "name": "stdout",
     "output_type": "stream",
     "text": [
      "Cleaning up text and removing stopwords...\n",
      "- Text cleaned in: 0.01 seconds\n",
      "\n",
      "Loading spacy model...\n",
      "- Model loaded in: 0.54 seconds\n",
      "\n",
      "Lemmatizing...\n",
      "- Lemmatizing done in: 1.1 seconds\n",
      "Cleaning up text and removing stopwords...\n",
      "- Text cleaned in: 0.0 seconds\n",
      "\n",
      "Loading spacy model...\n",
      "- Model loaded in: 0.53 seconds\n",
      "\n",
      "Lemmatizing...\n",
      "- Lemmatizing done in: 0.0 seconds\n",
      "Cleaning up text and removing stopwords...\n",
      "- Text cleaned in: 0.0 seconds\n",
      "\n",
      "Loading spacy model...\n",
      "- Model loaded in: 0.52 seconds\n",
      "\n",
      "Lemmatizing...\n",
      "- Lemmatizing done in: 0.35 seconds\n"
     ]
    }
   ],
   "source": [
    "df_train, df_validate, df_test = split_sample(cleaned_df, 0.8, 0)\n",
    "X_train, X_validate, X_test = process_all_samples(cleaner, embedder_w2v, df_train, df_validate, df_test)\n",
    "y_train = df_train['Category'].values\n",
    "y_validate = df_validate['Category'].values\n",
    "y_test = df_test['Category'].values"
   ]
  },
  {
   "cell_type": "markdown",
   "metadata": {},
   "source": [
    "### Train some models"
   ]
  },
  {
   "cell_type": "code",
   "execution_count": 111,
   "metadata": {},
   "outputs": [],
   "source": [
    "# import xgboost as xgb\n",
    "from xgboost import XGBClassifier"
   ]
  },
  {
   "cell_type": "code",
   "execution_count": 151,
   "metadata": {},
   "outputs": [],
   "source": [
    "from sklearn.metrics import confusion_matrix\n",
    "from sklearn.metrics import accuracy_score\n",
    "\n",
    "def print_performance(vals_y, pred_y, output_accuracy=False, output_confusion=False):\n",
    "    print('\\nConfusion matrix:')\n",
    "    conf = confusion_matrix(vals_y, pred_y)\n",
    "    print(conf)\n",
    "\n",
    "    print('\\nAccuracy:')\n",
    "    acc = accuracy_score(vals_y, pred_y)\n",
    "    print(acc)\n",
    "\n",
    "    if output_accuracy is True:\n",
    "        return acc\n",
    "    elif output_confusion is True:\n",
    "        return conf"
   ]
  },
  {
   "cell_type": "code",
   "execution_count": 113,
   "metadata": {},
   "outputs": [
    {
     "data": {
      "text/plain": [
       "XGBClassifier(objective='multi:softprob')"
      ]
     },
     "execution_count": 113,
     "metadata": {},
     "output_type": "execute_result"
    }
   ],
   "source": [
    "model = XGBClassifier()\n",
    "model.fit(X_train, y_train)"
   ]
  },
  {
   "cell_type": "code",
   "execution_count": 118,
   "metadata": {},
   "outputs": [
    {
     "name": "stdout",
     "output_type": "stream",
     "text": [
      "Confusion matrix:\n",
      "[[ 65   0   0   0   0]\n",
      " [  0  75   0   0   0]\n",
      " [  0   0  47   0   0]\n",
      " [  0   0   0  19   0]\n",
      " [  0   1   0   0 123]]\n",
      "\n",
      "Accuracy:\n",
      "0.996969696969697\n",
      "Confusion matrix:\n",
      "[[10  3  1  2  2]\n",
      " [ 6 13  0  1  0]\n",
      " [ 0  0  9  0  3]\n",
      " [ 0  1  0  2  2]\n",
      " [ 0  0  3  1 24]]\n",
      "\n",
      "Accuracy:\n",
      "0.6987951807228916\n"
     ]
    }
   ],
   "source": [
    "model.predict(X_train)\n",
    "print_performance(model.predict(X_train), y_train)\n",
    "print_performance(model.predict(X_test), y_test)"
   ]
  },
  {
   "cell_type": "code",
   "execution_count": 150,
   "metadata": {},
   "outputs": [
    {
     "name": "stdout",
     "output_type": "stream",
     "text": [
      "Please merge Kindle subscription with electronic one, add espresso on Kindle. This standard app doesnt show espresso. Moreover espresso is shown only 2PM, while settings set to Europe and I'm in Europe. (reinstalling app doesn't help)\n",
      "\n",
      "Actual: O\n",
      "\n",
      "Pred: A\n"
     ]
    }
   ],
   "source": [
    "n=3\n",
    "print(df_test['Review'].iloc[n])\n",
    "print('\\nActual:',y_test[n])\n",
    "print('\\nPred:',model.predict(X_test)[n])\n",
    "    \n"
   ]
  },
  {
   "cell_type": "code",
   "execution_count": null,
   "metadata": {},
   "outputs": [],
   "source": [
    "I just tried building a quick model to predict sentiment (using word2vec embedding + xgboost) and it actually does a decent job already without any optimisation, and a tiny sample! So I'm fairly hopeful, it'll work once we get some more reviews\n",
    "\n",
    "\n"
   ]
  }
 ],
 "metadata": {
  "kernelspec": {
   "display_name": "Python 3",
   "language": "python",
   "name": "python3"
  },
  "language_info": {
   "codemirror_mode": {
    "name": "ipython",
    "version": 3
   },
   "file_extension": ".py",
   "mimetype": "text/x-python",
   "name": "python",
   "nbconvert_exporter": "python",
   "pygments_lexer": "ipython3",
   "version": "3.7.4"
  }
 },
 "nbformat": 4,
 "nbformat_minor": 2
}
