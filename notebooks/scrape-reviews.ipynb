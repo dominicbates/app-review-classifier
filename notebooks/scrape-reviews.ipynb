{
 "cells": [
  {
   "cell_type": "code",
   "execution_count": 48,
   "metadata": {},
   "outputs": [],
   "source": [
    "import pandas as pd\n",
    "import numpy as np\n",
    "from app_store_scraper import AppStore\n",
    "from google_play_scraper import reviews_all, reviews, Sort, app\n",
    "import time"
   ]
  },
  {
   "cell_type": "code",
   "execution_count": null,
   "metadata": {},
   "outputs": [],
   "source": []
  },
  {
   "cell_type": "code",
   "execution_count": 52,
   "metadata": {},
   "outputs": [],
   "source": [
    "def get_apple_reviews(app_name, app_id, country):\n",
    "    \n",
    "    # Try and get scrape reviews...\n",
    "    for n in range(20):\n",
    "        reviews = AppStore(country = country, app_name = app_name, app_id = app_id)\n",
    "        reviews.review(how_many=100000)\n",
    "        reviews_dict = reviews.reviews\n",
    "        del reviews\n",
    "        \n",
    "        # If no results, retry...\n",
    "        if len(reviews_dict) < 2:\n",
    "            print(\"No results found - let's wait a sec, then retry...\")\n",
    "            print(reviews_dict)\n",
    "            time.sleep(10+(n*2))\n",
    "        else:\n",
    "            print('Found some results! Moving on...')\n",
    "            break\n",
    "            \n",
    "    return reviews_dict\n",
    "\n",
    "\n",
    "def apple_reviews_to_df(reviews_dict, app_name):\n",
    "        # Turn to dataframe\n",
    "    col_date = []\n",
    "    col_review = []\n",
    "    col_title = []\n",
    "    col_rating = []\n",
    "    col_app = []\n",
    "    for review in reviews_dict:\n",
    "        col_date.append(review['date'])\n",
    "        col_title.append(review['title'])\n",
    "        col_review.append(review['review'])\n",
    "        col_rating.append(review['rating'])\n",
    "        col_app.append(app_name)\n",
    "    \n",
    "    reviews_df = pd.DataFrame({'date':col_date,\n",
    "                               'title':col_title,\n",
    "                               'review':col_review,\n",
    "                               'rating':col_rating,\n",
    "                               'app':col_app})\n",
    "    return reviews_df\n"
   ]
  },
  {
   "cell_type": "code",
   "execution_count": 53,
   "metadata": {},
   "outputs": [],
   "source": [
    "def get_google_reviews(app_id, country, lang):\n",
    "    reviews_dict = reviews_all(app_id,\n",
    "                               sleep_milliseconds=0, # defaults to 0\n",
    "                               country=country, # Changing this doesn't do anything - 3078 reviews show up regardless of what country code - this is probably all EN reviews, after checking how many per country with \"app()\"\n",
    "                               lang=lang) # Just choosing EN filters out some english reviews, e.g. FR is mostly english)\n",
    "    return reviews_dict\n",
    "\n",
    "def google_reviews_to_df(reviews_dict, app_name):\n",
    "        # Turn to dataframe\n",
    "    col_date = []\n",
    "    col_review = []\n",
    "    col_title = []\n",
    "    col_rating = []\n",
    "    col_app = []\n",
    "    for review in reviews_dict:\n",
    "        col_date.append(review['at'])\n",
    "        col_title.append('')\n",
    "        col_review.append(review['content'])\n",
    "        col_rating.append(review['score'])\n",
    "        col_app.append(app_name)\n",
    "    \n",
    "    reviews_df = pd.DataFrame({'date':col_date,\n",
    "                               'title':col_title,\n",
    "                               'review':col_review,\n",
    "                               'rating':col_rating,\n",
    "                               'app':col_app})\n",
    "    return reviews_df\n",
    "    "
   ]
  },
  {
   "cell_type": "code",
   "execution_count": null,
   "metadata": {},
   "outputs": [],
   "source": [
    "\n"
   ]
  },
  {
   "cell_type": "code",
   "execution_count": 54,
   "metadata": {
    "scrolled": true
   },
   "outputs": [
    {
     "name": "stderr",
     "output_type": "stream",
     "text": [
      "2022-08-31 09:44:51,841 [INFO] Base - Initialised: AppStore('us', 'the-economist', 1239397626)\n",
      "2022-08-31 09:44:51,842 [INFO] Base - Ready to fetch reviews from: https://apps.apple.com/us/app/the-economist/id1239397626\n",
      "2022-08-31 09:44:55,632 [INFO] Base - [id:1239397626] Fetched 1486 reviews (1486 fetched in total)\n",
      "2022-08-31 09:44:55,677 [INFO] Base - Initialised: AppStore('us', 'espresso-from-the-economist', 896628003)\n",
      "2022-08-31 09:44:55,677 [INFO] Base - Ready to fetch reviews from: https://apps.apple.com/us/app/espresso-from-the-economist/id896628003\n"
     ]
    },
    {
     "name": "stdout",
     "output_type": "stream",
     "text": [
      "Found some results! Moving on...\n"
     ]
    },
    {
     "name": "stderr",
     "output_type": "stream",
     "text": [
      "2022-08-31 09:45:00,710 [INFO] Base - [id:896628003] Fetched 560 reviews (560 fetched in total)\n",
      "2022-08-31 09:45:06,076 [INFO] Base - [id:896628003] Fetched 1140 reviews (1140 fetched in total)\n",
      "2022-08-31 09:45:10,359 [INFO] Base - [id:896628003] Fetched 1571 reviews (1571 fetched in total)\n"
     ]
    },
    {
     "name": "stdout",
     "output_type": "stream",
     "text": [
      "Found some results! Moving on...\n"
     ]
    },
    {
     "name": "stderr",
     "output_type": "stream",
     "text": [
      "2022-08-31 09:45:11,251 [INFO] Base - Initialised: AppStore('gb', 'the-economist', 1239397626)\n",
      "2022-08-31 09:45:11,251 [INFO] Base - Ready to fetch reviews from: https://apps.apple.com/gb/app/the-economist/id1239397626\n",
      "2022-08-31 09:45:31,131 [ERROR] Base - Something went wrong: HTTPSConnectionPool(host='amp-api.apps.apple.com', port=443): Max retries exceeded with url: /v1/catalog/gb/apps/1239397626/reviews?l=en-GB&offset=180&limit=20&platform=web&additionalPlatforms=appletv%2Cipad%2Ciphone%2Cmac (Caused by ResponseError('too many 429 error responses'))\n",
      "2022-08-31 09:45:31,137 [INFO] Base - [id:1239397626] Fetched 180 reviews (180 fetched in total)\n"
     ]
    },
    {
     "name": "stdout",
     "output_type": "stream",
     "text": [
      "Found some results! Moving on...\n"
     ]
    },
    {
     "name": "stderr",
     "output_type": "stream",
     "text": [
      "2022-08-31 09:45:32,271 [INFO] Base - Initialised: AppStore('gb', 'espresso-from-the-economist', 896628003)\n",
      "2022-08-31 09:45:32,272 [INFO] Base - Ready to fetch reviews from: https://apps.apple.com/gb/app/espresso-from-the-economist/id896628003\n",
      "2022-08-31 09:45:51,623 [ERROR] Base - Something went wrong: HTTPSConnectionPool(host='amp-api.apps.apple.com', port=443): Max retries exceeded with url: /v1/catalog/gb/apps/896628003/reviews?l=en-GB&offset=80&limit=20&platform=web&additionalPlatforms=appletv%2Cipad%2Ciphone%2Cmac (Caused by ResponseError('too many 429 error responses'))\n",
      "2022-08-31 09:45:51,628 [INFO] Base - [id:896628003] Fetched 80 reviews (80 fetched in total)\n"
     ]
    },
    {
     "name": "stdout",
     "output_type": "stream",
     "text": [
      "Found some results! Moving on...\n"
     ]
    },
    {
     "name": "stderr",
     "output_type": "stream",
     "text": [
      "2022-08-31 09:45:52,259 [INFO] Base - Initialised: AppStore('ca', 'the-economist', 1239397626)\n",
      "2022-08-31 09:45:52,261 [INFO] Base - Ready to fetch reviews from: https://apps.apple.com/ca/app/the-economist/id1239397626\n",
      "2022-08-31 09:46:10,732 [ERROR] Base - Something went wrong: HTTPSConnectionPool(host='amp-api.apps.apple.com', port=443): Max retries exceeded with url: /v1/catalog/ca/apps/1239397626/reviews?l=en-GB&offset=0&limit=20&platform=web&additionalPlatforms=appletv%2Cipad%2Ciphone%2Cmac (Caused by ResponseError('too many 429 error responses'))\n",
      "2022-08-31 09:46:10,737 [INFO] Base - [id:1239397626] Fetched 0 reviews (0 fetched in total)\n"
     ]
    },
    {
     "name": "stdout",
     "output_type": "stream",
     "text": [
      "No results found - let's wait a sec, then retry...\n",
      "[]\n"
     ]
    },
    {
     "name": "stderr",
     "output_type": "stream",
     "text": [
      "2022-08-31 09:46:20,805 [INFO] Base - Initialised: AppStore('ca', 'the-economist', 1239397626)\n",
      "2022-08-31 09:46:20,806 [INFO] Base - Ready to fetch reviews from: https://apps.apple.com/ca/app/the-economist/id1239397626\n",
      "2022-08-31 09:46:39,436 [ERROR] Base - Something went wrong: HTTPSConnectionPool(host='amp-api.apps.apple.com', port=443): Max retries exceeded with url: /v1/catalog/ca/apps/1239397626/reviews?l=en-GB&offset=0&limit=20&platform=web&additionalPlatforms=appletv%2Cipad%2Ciphone%2Cmac (Caused by ResponseError('too many 429 error responses'))\n",
      "2022-08-31 09:46:39,439 [INFO] Base - [id:1239397626] Fetched 0 reviews (0 fetched in total)\n"
     ]
    },
    {
     "name": "stdout",
     "output_type": "stream",
     "text": [
      "No results found - let's wait a sec, then retry...\n",
      "[]\n"
     ]
    },
    {
     "name": "stderr",
     "output_type": "stream",
     "text": [
      "2022-08-31 09:46:49,533 [INFO] Base - Initialised: AppStore('ca', 'the-economist', 1239397626)\n",
      "2022-08-31 09:46:49,542 [INFO] Base - Ready to fetch reviews from: https://apps.apple.com/ca/app/the-economist/id1239397626\n",
      "2022-08-31 09:47:08,102 [INFO] Base - [id:1239397626] Fetched 20 reviews (20 fetched in total)\n",
      "2022-08-31 09:47:26,836 [ERROR] Base - Something went wrong: HTTPSConnectionPool(host='amp-api.apps.apple.com', port=443): Max retries exceeded with url: /v1/catalog/ca/apps/1239397626/reviews?l=en-GB&offset=20&limit=20&platform=web&additionalPlatforms=appletv%2Cipad%2Ciphone%2Cmac (Caused by ResponseError('too many 429 error responses'))\n",
      "2022-08-31 09:47:26,841 [INFO] Base - [id:1239397626] Fetched 20 reviews (20 fetched in total)\n"
     ]
    },
    {
     "name": "stdout",
     "output_type": "stream",
     "text": [
      "Found some results! Moving on...\n"
     ]
    },
    {
     "name": "stderr",
     "output_type": "stream",
     "text": [
      "2022-08-31 09:47:27,392 [INFO] Base - Initialised: AppStore('ca', 'espresso-from-the-economist', 896628003)\n",
      "2022-08-31 09:47:27,393 [INFO] Base - Ready to fetch reviews from: https://apps.apple.com/ca/app/espresso-from-the-economist/id896628003\n",
      "2022-08-31 09:47:47,119 [ERROR] Base - Something went wrong: HTTPSConnectionPool(host='amp-api.apps.apple.com', port=443): Max retries exceeded with url: /v1/catalog/ca/apps/896628003/reviews?l=en-GB&offset=100&limit=20&platform=web&additionalPlatforms=appletv%2Cipad%2Ciphone%2Cmac (Caused by ResponseError('too many 429 error responses'))\n",
      "2022-08-31 09:47:47,124 [INFO] Base - [id:896628003] Fetched 100 reviews (100 fetched in total)\n"
     ]
    },
    {
     "name": "stdout",
     "output_type": "stream",
     "text": [
      "Found some results! Moving on...\n"
     ]
    },
    {
     "name": "stderr",
     "output_type": "stream",
     "text": [
      "2022-08-31 09:47:50,130 [INFO] Base - Initialised: AppStore('au', 'the-economist', 1239397626)\n",
      "2022-08-31 09:47:50,131 [INFO] Base - Ready to fetch reviews from: https://apps.apple.com/au/app/the-economist/id1239397626\n",
      "2022-08-31 09:47:51,963 [INFO] Base - [id:1239397626] Fetched 139 reviews (139 fetched in total)\n"
     ]
    },
    {
     "name": "stdout",
     "output_type": "stream",
     "text": [
      "Found some results! Moving on...\n"
     ]
    },
    {
     "name": "stderr",
     "output_type": "stream",
     "text": [
      "2022-08-31 09:47:52,527 [INFO] Base - Initialised: AppStore('au', 'espresso-from-the-economist', 896628003)\n",
      "2022-08-31 09:47:52,527 [INFO] Base - Ready to fetch reviews from: https://apps.apple.com/au/app/espresso-from-the-economist/id896628003\n",
      "2022-08-31 09:48:12,030 [INFO] Base - [id:896628003] Fetched 80 reviews (80 fetched in total)\n",
      "2022-08-31 09:48:12,769 [INFO] Base - [id:896628003] Fetched 129 reviews (129 fetched in total)\n"
     ]
    },
    {
     "name": "stdout",
     "output_type": "stream",
     "text": [
      "Found some results! Moving on...\n"
     ]
    },
    {
     "name": "stderr",
     "output_type": "stream",
     "text": [
      "2022-08-31 09:48:17,040 [INFO] Base - Initialised: AppStore('za', 'the-economist', 1239397626)\n",
      "2022-08-31 09:48:17,042 [INFO] Base - Ready to fetch reviews from: https://apps.apple.com/za/app/the-economist/id1239397626\n",
      "2022-08-31 09:48:17,227 [INFO] Base - [id:1239397626] Fetched 18 reviews (18 fetched in total)\n"
     ]
    },
    {
     "name": "stdout",
     "output_type": "stream",
     "text": [
      "Found some results! Moving on...\n"
     ]
    },
    {
     "name": "stderr",
     "output_type": "stream",
     "text": [
      "2022-08-31 09:48:25,200 [INFO] Base - Initialised: AppStore('za', 'espresso-from-the-economist', 896628003)\n",
      "2022-08-31 09:48:25,201 [INFO] Base - Ready to fetch reviews from: https://apps.apple.com/za/app/espresso-from-the-economist/id896628003\n",
      "2022-08-31 09:48:25,408 [INFO] Base - [id:896628003] Fetched 17 reviews (17 fetched in total)\n"
     ]
    },
    {
     "name": "stdout",
     "output_type": "stream",
     "text": [
      "Found some results! Moving on...\n"
     ]
    },
    {
     "name": "stderr",
     "output_type": "stream",
     "text": [
      "2022-08-31 09:48:25,941 [INFO] Base - Initialised: AppStore('ie', 'the-economist', 1239397626)\n",
      "2022-08-31 09:48:25,942 [INFO] Base - Ready to fetch reviews from: https://apps.apple.com/ie/app/the-economist/id1239397626\n",
      "2022-08-31 09:48:26,362 [INFO] Base - [id:1239397626] Fetched 27 reviews (27 fetched in total)\n"
     ]
    },
    {
     "name": "stdout",
     "output_type": "stream",
     "text": [
      "Found some results! Moving on...\n"
     ]
    },
    {
     "name": "stderr",
     "output_type": "stream",
     "text": [
      "2022-08-31 09:48:27,045 [INFO] Base - Initialised: AppStore('ie', 'espresso-from-the-economist', 896628003)\n",
      "2022-08-31 09:48:27,046 [INFO] Base - Ready to fetch reviews from: https://apps.apple.com/ie/app/espresso-from-the-economist/id896628003\n",
      "2022-08-31 09:48:27,249 [INFO] Base - [id:896628003] Fetched 17 reviews (17 fetched in total)\n"
     ]
    },
    {
     "name": "stdout",
     "output_type": "stream",
     "text": [
      "Found some results! Moving on...\n"
     ]
    }
   ],
   "source": [
    "apple_reviews_economist = {}\n",
    "apple_reviews_espresso = {}\n",
    "for country in ['US','GB','CA','AU','ZA','IE']:\n",
    "    apple_reviews_economist[country] = get_apple_reviews('the-economist', app_id='1239397626', country=country)\n",
    "\n",
    "    apple_reviews_espresso[country] = get_apple_reviews('espresso-from-the-economist', app_id='896628003', country=country)\n",
    "\n",
    "    "
   ]
  },
  {
   "cell_type": "code",
   "execution_count": 5,
   "metadata": {},
   "outputs": [],
   "source": [
    "google_reviews_economist = {}\n",
    "google_reviews_espresso = {}\n",
    "\n",
    "google_reviews_economist['All'] = get_google_reviews('com.economist.lamarr', country='US', lang='EN')\n",
    "google_reviews_espresso['All'] = get_google_reviews('com.economist.darwin', country='US', lang='EN')\n",
    "\n",
    "    "
   ]
  },
  {
   "cell_type": "code",
   "execution_count": null,
   "metadata": {},
   "outputs": [],
   "source": [
    "def get_all_reviews(country_list = None)\n",
    "\n",
    "    # Load default countries\n",
    "    if country_list is None:\n",
    "        countries_english = ['US','GB','CA','AU','ZA','IE','NZ'] # English speaking countries\n",
    "        countries_other = ['IN','US','ID','BR','DE','ES','NL','SE','SG'] # Populous countries where vast majority of reviews are in english\n",
    "        countries_list = countries_english + countries_other\n",
    "\n",
    "    # Scrape apple reviews\n",
    "    apple_reviews_economist = {}\n",
    "    apple_reviews_espresso = {}\n",
    "    print('Getting apple reviews...')\n",
    "    for country in countries_list: \n",
    "        apple_reviews_economist[country] = get_apple_reviews('the-economist', app_id='1239397626', country=country)\n",
    "        apple_reviews_espresso[country] = get_apple_reviews('espresso-from-the-economist', app_id='896628003', country=country)\n",
    "    print('Apple reviews downloaded!')\n",
    "\n",
    "    # Scrape google reviews\n",
    "    google_reviews_economist = {}\n",
    "    google_reviews_espresso = {}\n",
    "    print('Getting google reviews...')\n",
    "    google_reviews_economist['All'] = get_google_reviews('com.economist.lamarr', country='US', lang='EN') # I think this is is all english reviews worldwide\n",
    "    google_reviews_espresso['All'] = get_google_reviews('com.economist.darwin', country='US', lang='EN') # I think this is is all english reviews worldwide\n",
    "    print('Google reviews downloaded!')\n",
    "\n",
    "    # Turn to dataframe and combine\n",
    "    all_reviews_list = []\n",
    "\n",
    "    for r in apple_reviews_economist:\n",
    "        all_reviews_list.append(apple_reviews_to_df(apple_reviews_economist[r], 'The Economist (Apple)'))\n",
    "    for r in apple_reviews_espresso:\n",
    "        all_reviews_list.append(apple_reviews_to_df(apple_reviews_espresso[r], 'Espresso (Apple)'))\n",
    "    for r in google_reviews_economist:\n",
    "        all_reviews_list.append(google_reviews_to_df(google_reviews_economist[r], 'The Economist (Google)'))\n",
    "    for r in google_reviews_economist:\n",
    "        all_reviews_list.append(google_reviews_to_df(google_reviews_espresso[r], 'Espresso (Google)'))\n",
    "\n",
    "    final_reviews_df = pd.concat(all_reviews_list).reset_index(drop=True)\n",
    "\n",
    "    return final_reviews_df"
   ]
  },
  {
   "cell_type": "code",
   "execution_count": 7,
   "metadata": {},
   "outputs": [],
   "source": [
    "all_reviews_list = []\n",
    "\n",
    "for r in apple_reviews_economist:\n",
    "    all_reviews_list.append(apple_reviews_to_df(apple_reviews_economist[r], 'The Economist (Apple)'))\n",
    "    \n",
    "for r in apple_reviews_espresso:\n",
    "    all_reviews_list.append(apple_reviews_to_df(apple_reviews_espresso[r], 'Espresso (Apple)'))\n",
    "\n",
    "for r in google_reviews_economist:\n",
    "    all_reviews_list.append(google_reviews_to_df(google_reviews_economist[r], 'The Economist (Google)'))\n",
    "\n",
    "for r in google_reviews_economist:\n",
    "    all_reviews_list.append(google_reviews_to_df(google_reviews_espresso[r], 'Espresso (Google)'))\n"
   ]
  },
  {
   "cell_type": "code",
   "execution_count": 11,
   "metadata": {},
   "outputs": [],
   "source": [
    "final_reviews_df = pd.concat(all_reviews_list).reset_index(drop=True)\n"
   ]
  },
  {
   "cell_type": "code",
   "execution_count": 33,
   "metadata": {},
   "outputs": [],
   "source": [
    "fname = '/Users/dominicbates/Documents/GitHub/app-review-classifier/data/reviews_sample.parquet'\n",
    "final_reviews_df.to_parquet(fname)"
   ]
  },
  {
   "cell_type": "code",
   "execution_count": 113,
   "metadata": {},
   "outputs": [],
   "source": [
    "# test = pd.read_parquet('/Users/dominicbates/Documents/GitHub/app-review-classifier/data/reviews_sample.parquet')"
   ]
  },
  {
   "cell_type": "code",
   "execution_count": 127,
   "metadata": {},
   "outputs": [
    {
     "data": {
      "text/html": [
       "<div>\n",
       "<style scoped>\n",
       "    .dataframe tbody tr th:only-of-type {\n",
       "        vertical-align: middle;\n",
       "    }\n",
       "\n",
       "    .dataframe tbody tr th {\n",
       "        vertical-align: top;\n",
       "    }\n",
       "\n",
       "    .dataframe thead th {\n",
       "        text-align: right;\n",
       "    }\n",
       "</style>\n",
       "<table border=\"1\" class=\"dataframe\">\n",
       "  <thead>\n",
       "    <tr style=\"text-align: right;\">\n",
       "      <th></th>\n",
       "      <th>title</th>\n",
       "      <th>date</th>\n",
       "      <th>review</th>\n",
       "      <th>rating</th>\n",
       "      <th>app</th>\n",
       "    </tr>\n",
       "  </thead>\n",
       "  <tbody>\n",
       "    <tr>\n",
       "      <th>0</th>\n",
       "      <td>App has come a long way but some need for impr...</td>\n",
       "      <td>2021-11-16 16:36:05</td>\n",
       "      <td>The app used to be atrocious. I mean, it basic...</td>\n",
       "      <td>4</td>\n",
       "      <td>The Economist (Apple)</td>\n",
       "    </tr>\n",
       "    <tr>\n",
       "      <th>1</th>\n",
       "      <td>Audio edition unusable</td>\n",
       "      <td>2021-07-04 01:58:07</td>\n",
       "      <td>Excellent content, terrible app. I use the app...</td>\n",
       "      <td>1</td>\n",
       "      <td>The Economist (Apple)</td>\n",
       "    </tr>\n",
       "    <tr>\n",
       "      <th>2</th>\n",
       "      <td>Brilliant Topics Keep Me Thinking Well Afterwards</td>\n",
       "      <td>2021-05-07 23:51:45</td>\n",
       "      <td>I may be disabled from health issues. In the p...</td>\n",
       "      <td>5</td>\n",
       "      <td>The Economist (Apple)</td>\n",
       "    </tr>\n",
       "    <tr>\n",
       "      <th>3</th>\n",
       "      <td>Bugs in latest release</td>\n",
       "      <td>2021-06-19 05:37:25</td>\n",
       "      <td>I have loved this app and made it my primary m...</td>\n",
       "      <td>5</td>\n",
       "      <td>The Economist (Apple)</td>\n",
       "    </tr>\n",
       "    <tr>\n",
       "      <th>4</th>\n",
       "      <td>Cancellation process is horrendous</td>\n",
       "      <td>2021-04-02 21:50:41</td>\n",
       "      <td>This a good news source. It’s very well done h...</td>\n",
       "      <td>2</td>\n",
       "      <td>The Economist (Apple)</td>\n",
       "    </tr>\n",
       "    <tr>\n",
       "      <th>5</th>\n",
       "      <td>Feedback on v3 update</td>\n",
       "      <td>2022-03-17 00:50:31</td>\n",
       "      <td>Great app overall. Putting three stars to elev...</td>\n",
       "      <td>5</td>\n",
       "      <td>The Economist (Apple)</td>\n",
       "    </tr>\n",
       "    <tr>\n",
       "      <th>6</th>\n",
       "      <td>Great App, fantastic content and journalism.</td>\n",
       "      <td>2021-12-01 12:37:22</td>\n",
       "      <td>I’m new to The Economist after a suggestion fr...</td>\n",
       "      <td>5</td>\n",
       "      <td>The Economist (Apple)</td>\n",
       "    </tr>\n",
       "    <tr>\n",
       "      <th>7</th>\n",
       "      <td>Improving but still poor for offline access.</td>\n",
       "      <td>2019-10-12 13:56:23</td>\n",
       "      <td>- I wish I could download all the images in ad...</td>\n",
       "      <td>5</td>\n",
       "      <td>The Economist (Apple)</td>\n",
       "    </tr>\n",
       "    <tr>\n",
       "      <th>8</th>\n",
       "      <td>News, but better.</td>\n",
       "      <td>2020-05-04 19:28:02</td>\n",
       "      <td>I never personally thought I’d be writing a re...</td>\n",
       "      <td>5</td>\n",
       "      <td>The Economist (Apple)</td>\n",
       "    </tr>\n",
       "    <tr>\n",
       "      <th>9</th>\n",
       "      <td>Please fix audio playlist customisation.</td>\n",
       "      <td>2019-06-15 15:02:16</td>\n",
       "      <td>I used to love listening to The Economist audi...</td>\n",
       "      <td>1</td>\n",
       "      <td>The Economist (Apple)</td>\n",
       "    </tr>\n",
       "    <tr>\n",
       "      <th>10</th>\n",
       "      <td>These people are excellent at their jobs</td>\n",
       "      <td>2022-02-03 14:07:33</td>\n",
       "      <td>I was compelled by a recent piece on the histo...</td>\n",
       "      <td>5</td>\n",
       "      <td>The Economist (Apple)</td>\n",
       "    </tr>\n",
       "    <tr>\n",
       "      <th>11</th>\n",
       "      <td>Very unbiased, Economics is the perspective</td>\n",
       "      <td>2021-07-30 13:27:59</td>\n",
       "      <td>I love this mag. I mean I really do (Econ Majo...</td>\n",
       "      <td>5</td>\n",
       "      <td>The Economist (Apple)</td>\n",
       "    </tr>\n",
       "  </tbody>\n",
       "</table>\n",
       "</div>"
      ],
      "text/plain": [
       "                                                title                date  \\\n",
       "0   App has come a long way but some need for impr... 2021-11-16 16:36:05   \n",
       "1                              Audio edition unusable 2021-07-04 01:58:07   \n",
       "2   Brilliant Topics Keep Me Thinking Well Afterwards 2021-05-07 23:51:45   \n",
       "3                              Bugs in latest release 2021-06-19 05:37:25   \n",
       "4                  Cancellation process is horrendous 2021-04-02 21:50:41   \n",
       "5                               Feedback on v3 update 2022-03-17 00:50:31   \n",
       "6        Great App, fantastic content and journalism. 2021-12-01 12:37:22   \n",
       "7        Improving but still poor for offline access. 2019-10-12 13:56:23   \n",
       "8                                   News, but better. 2020-05-04 19:28:02   \n",
       "9            Please fix audio playlist customisation. 2019-06-15 15:02:16   \n",
       "10           These people are excellent at their jobs 2022-02-03 14:07:33   \n",
       "11        Very unbiased, Economics is the perspective 2021-07-30 13:27:59   \n",
       "\n",
       "                                               review  rating  \\\n",
       "0   The app used to be atrocious. I mean, it basic...       4   \n",
       "1   Excellent content, terrible app. I use the app...       1   \n",
       "2   I may be disabled from health issues. In the p...       5   \n",
       "3   I have loved this app and made it my primary m...       5   \n",
       "4   This a good news source. It’s very well done h...       2   \n",
       "5   Great app overall. Putting three stars to elev...       5   \n",
       "6   I’m new to The Economist after a suggestion fr...       5   \n",
       "7   - I wish I could download all the images in ad...       5   \n",
       "8   I never personally thought I’d be writing a re...       5   \n",
       "9   I used to love listening to The Economist audi...       1   \n",
       "10  I was compelled by a recent piece on the histo...       5   \n",
       "11  I love this mag. I mean I really do (Econ Majo...       5   \n",
       "\n",
       "                      app  \n",
       "0   The Economist (Apple)  \n",
       "1   The Economist (Apple)  \n",
       "2   The Economist (Apple)  \n",
       "3   The Economist (Apple)  \n",
       "4   The Economist (Apple)  \n",
       "5   The Economist (Apple)  \n",
       "6   The Economist (Apple)  \n",
       "7   The Economist (Apple)  \n",
       "8   The Economist (Apple)  \n",
       "9   The Economist (Apple)  \n",
       "10  The Economist (Apple)  \n",
       "11  The Economist (Apple)  "
      ]
     },
     "execution_count": 127,
     "metadata": {},
     "output_type": "execute_result"
    }
   ],
   "source": [
    "combined_df = pd.concat( [test[0:10],test[8:12]]).reset_index(drop=True)\n",
    "\n",
    "combined_df = combined_df.sort_values(['title', 'date'],\n",
    "                                       ascending = [True, False]).reset_index(drop=True)\n",
    "combined_df.groupby('title',as_index=False).first().reset_index(drop=True)"
   ]
  },
  {
   "cell_type": "code",
   "execution_count": 128,
   "metadata": {},
   "outputs": [
    {
     "data": {
      "text/html": [
       "<div>\n",
       "<style scoped>\n",
       "    .dataframe tbody tr th:only-of-type {\n",
       "        vertical-align: middle;\n",
       "    }\n",
       "\n",
       "    .dataframe tbody tr th {\n",
       "        vertical-align: top;\n",
       "    }\n",
       "\n",
       "    .dataframe thead th {\n",
       "        text-align: right;\n",
       "    }\n",
       "</style>\n",
       "<table border=\"1\" class=\"dataframe\">\n",
       "  <thead>\n",
       "    <tr style=\"text-align: right;\">\n",
       "      <th></th>\n",
       "      <th>date</th>\n",
       "      <th>title</th>\n",
       "      <th>review</th>\n",
       "      <th>rating</th>\n",
       "      <th>app</th>\n",
       "    </tr>\n",
       "  </thead>\n",
       "  <tbody>\n",
       "    <tr>\n",
       "      <th>0</th>\n",
       "      <td>2021-11-16 16:36:05</td>\n",
       "      <td>App has come a long way but some need for impr...</td>\n",
       "      <td>The app used to be atrocious. I mean, it basic...</td>\n",
       "      <td>4</td>\n",
       "      <td>The Economist (Apple)</td>\n",
       "    </tr>\n",
       "    <tr>\n",
       "      <th>1</th>\n",
       "      <td>2021-07-04 01:58:07</td>\n",
       "      <td>Audio edition unusable</td>\n",
       "      <td>Excellent content, terrible app. I use the app...</td>\n",
       "      <td>1</td>\n",
       "      <td>The Economist (Apple)</td>\n",
       "    </tr>\n",
       "    <tr>\n",
       "      <th>2</th>\n",
       "      <td>2021-05-07 23:51:45</td>\n",
       "      <td>Brilliant Topics Keep Me Thinking Well Afterwards</td>\n",
       "      <td>I may be disabled from health issues. In the p...</td>\n",
       "      <td>5</td>\n",
       "      <td>The Economist (Apple)</td>\n",
       "    </tr>\n",
       "    <tr>\n",
       "      <th>3</th>\n",
       "      <td>2021-06-19 05:37:25</td>\n",
       "      <td>Bugs in latest release</td>\n",
       "      <td>I have loved this app and made it my primary m...</td>\n",
       "      <td>5</td>\n",
       "      <td>The Economist (Apple)</td>\n",
       "    </tr>\n",
       "    <tr>\n",
       "      <th>4</th>\n",
       "      <td>2021-04-02 21:50:41</td>\n",
       "      <td>Cancellation process is horrendous</td>\n",
       "      <td>This a good news source. It’s very well done h...</td>\n",
       "      <td>2</td>\n",
       "      <td>The Economist (Apple)</td>\n",
       "    </tr>\n",
       "    <tr>\n",
       "      <th>5</th>\n",
       "      <td>2022-03-17 00:50:31</td>\n",
       "      <td>Feedback on v3 update</td>\n",
       "      <td>Great app overall. Putting three stars to elev...</td>\n",
       "      <td>5</td>\n",
       "      <td>The Economist (Apple)</td>\n",
       "    </tr>\n",
       "    <tr>\n",
       "      <th>6</th>\n",
       "      <td>2021-12-01 12:37:22</td>\n",
       "      <td>Great App, fantastic content and journalism.</td>\n",
       "      <td>I’m new to The Economist after a suggestion fr...</td>\n",
       "      <td>5</td>\n",
       "      <td>The Economist (Apple)</td>\n",
       "    </tr>\n",
       "    <tr>\n",
       "      <th>7</th>\n",
       "      <td>2019-10-12 13:56:23</td>\n",
       "      <td>Improving but still poor for offline access.</td>\n",
       "      <td>- I wish I could download all the images in ad...</td>\n",
       "      <td>5</td>\n",
       "      <td>The Economist (Apple)</td>\n",
       "    </tr>\n",
       "    <tr>\n",
       "      <th>8</th>\n",
       "      <td>2020-05-04 19:28:02</td>\n",
       "      <td>News, but better.</td>\n",
       "      <td>I never personally thought I’d be writing a re...</td>\n",
       "      <td>5</td>\n",
       "      <td>The Economist (Apple)</td>\n",
       "    </tr>\n",
       "    <tr>\n",
       "      <th>9</th>\n",
       "      <td>2019-06-15 15:02:16</td>\n",
       "      <td>Please fix audio playlist customisation.</td>\n",
       "      <td>I used to love listening to The Economist audi...</td>\n",
       "      <td>1</td>\n",
       "      <td>The Economist (Apple)</td>\n",
       "    </tr>\n",
       "    <tr>\n",
       "      <th>10</th>\n",
       "      <td>2022-02-03 14:07:33</td>\n",
       "      <td>These people are excellent at their jobs</td>\n",
       "      <td>I was compelled by a recent piece on the histo...</td>\n",
       "      <td>5</td>\n",
       "      <td>The Economist (Apple)</td>\n",
       "    </tr>\n",
       "    <tr>\n",
       "      <th>11</th>\n",
       "      <td>2021-07-30 13:27:59</td>\n",
       "      <td>Very unbiased, Economics is the perspective</td>\n",
       "      <td>I love this mag. I mean I really do (Econ Majo...</td>\n",
       "      <td>5</td>\n",
       "      <td>The Economist (Apple)</td>\n",
       "    </tr>\n",
       "  </tbody>\n",
       "</table>\n",
       "</div>"
      ],
      "text/plain": [
       "                  date                                              title  \\\n",
       "0  2021-11-16 16:36:05  App has come a long way but some need for impr...   \n",
       "1  2021-07-04 01:58:07                             Audio edition unusable   \n",
       "2  2021-05-07 23:51:45  Brilliant Topics Keep Me Thinking Well Afterwards   \n",
       "3  2021-06-19 05:37:25                             Bugs in latest release   \n",
       "4  2021-04-02 21:50:41                 Cancellation process is horrendous   \n",
       "5  2022-03-17 00:50:31                              Feedback on v3 update   \n",
       "6  2021-12-01 12:37:22       Great App, fantastic content and journalism.   \n",
       "7  2019-10-12 13:56:23       Improving but still poor for offline access.   \n",
       "8  2020-05-04 19:28:02                                  News, but better.   \n",
       "9  2019-06-15 15:02:16           Please fix audio playlist customisation.   \n",
       "10 2022-02-03 14:07:33           These people are excellent at their jobs   \n",
       "11 2021-07-30 13:27:59        Very unbiased, Economics is the perspective   \n",
       "\n",
       "                                               review  rating  \\\n",
       "0   The app used to be atrocious. I mean, it basic...       4   \n",
       "1   Excellent content, terrible app. I use the app...       1   \n",
       "2   I may be disabled from health issues. In the p...       5   \n",
       "3   I have loved this app and made it my primary m...       5   \n",
       "4   This a good news source. It’s very well done h...       2   \n",
       "5   Great app overall. Putting three stars to elev...       5   \n",
       "6   I’m new to The Economist after a suggestion fr...       5   \n",
       "7   - I wish I could download all the images in ad...       5   \n",
       "8   I never personally thought I’d be writing a re...       5   \n",
       "9   I used to love listening to The Economist audi...       1   \n",
       "10  I was compelled by a recent piece on the histo...       5   \n",
       "11  I love this mag. I mean I really do (Econ Majo...       5   \n",
       "\n",
       "                      app  \n",
       "0   The Economist (Apple)  \n",
       "1   The Economist (Apple)  \n",
       "2   The Economist (Apple)  \n",
       "3   The Economist (Apple)  \n",
       "4   The Economist (Apple)  \n",
       "5   The Economist (Apple)  \n",
       "6   The Economist (Apple)  \n",
       "7   The Economist (Apple)  \n",
       "8   The Economist (Apple)  \n",
       "9   The Economist (Apple)  \n",
       "10  The Economist (Apple)  \n",
       "11  The Economist (Apple)  "
      ]
     },
     "execution_count": 128,
     "metadata": {},
     "output_type": "execute_result"
    }
   ],
   "source": [
    "test[0:12].sort_values(['title'],ascending = [True]).reset_index(drop=True)"
   ]
  },
  {
   "cell_type": "code",
   "execution_count": null,
   "metadata": {},
   "outputs": [],
   "source": []
  },
  {
   "cell_type": "code",
   "execution_count": 7,
   "metadata": {},
   "outputs": [],
   "source": [
    "def get_apple_reviews(app_name, app_id, country):\n",
    "    \n",
    "    # Try and get scrape reviews...\n",
    "    reviews = AppStore(country = country, app_name = app_name, app_id = app_id)\n",
    "    reviews.review(how_many=100000)\n",
    "    reviews_dict = reviews.reviews\n",
    "#     del reviews\n",
    "\n",
    "#     # If no results, retry...\n",
    "#     if len(reviews_dict) < 2:\n",
    "#         print(\"No results found - let's wait a sec, then retry...\")\n",
    "#         time.sleep(10)\n",
    "#     else:\n",
    "#         print('Found some results! Moving on...')\n",
    "#         break\n",
    "            \n",
    "    return reviews, reviews_dict"
   ]
  },
  {
   "cell_type": "code",
   "execution_count": 8,
   "metadata": {},
   "outputs": [
    {
     "name": "stderr",
     "output_type": "stream",
     "text": [
      "2022-08-30 10:52:17,664 [INFO] Base - Initialised: AppStore('us', 'the-economist', 1239397626)\n",
      "2022-08-30 10:52:17,665 [INFO] Base - Ready to fetch reviews from: https://apps.apple.com/us/app/the-economist/id1239397626\n",
      "2022-08-30 10:52:22,759 [INFO] Base - [id:1239397626] Fetched 620 reviews (620 fetched in total)\n",
      "2022-08-30 10:52:28,044 [INFO] Base - [id:1239397626] Fetched 1260 reviews (1260 fetched in total)\n",
      "2022-08-30 10:52:30,082 [INFO] Base - [id:1239397626] Fetched 1486 reviews (1486 fetched in total)\n"
     ]
    }
   ],
   "source": [
    "['US','GB','CA','AU','ZA','IE'] # Arbitary list of english speaking countries\n",
    "    \n",
    "test, test_dict = get_apple_reviews('the-economist', app_id='1239397626', country='IE')"
   ]
  },
  {
   "cell_type": "code",
   "execution_count": null,
   "metadata": {},
   "outputs": [],
   "source": []
  },
  {
   "cell_type": "code",
   "execution_count": 103,
   "metadata": {},
   "outputs": [
    {
     "name": "stderr",
     "output_type": "stream",
     "text": [
      "2022-08-31 11:32:50,242 [INFO] Base - Initialised: AppStore('hk', 'the-economist', 1239397626)\n",
      "2022-08-31 11:32:50,243 [INFO] Base - Ready to fetch reviews from: https://apps.apple.com/hk/app/the-economist/id1239397626\n",
      "2022-08-31 11:32:50,682 [INFO] Base - [id:1239397626] Fetched 28 reviews (28 fetched in total)\n"
     ]
    },
    {
     "name": "stdout",
     "output_type": "stream",
     "text": [
      "Found some results! Moving on...\n"
     ]
    },
    {
     "name": "stderr",
     "output_type": "stream",
     "text": [
      "2022-08-31 11:32:52,014 [INFO] Base - Initialised: AppStore('hk', 'espresso-from-the-economist', 896628003)\n",
      "2022-08-31 11:32:52,016 [INFO] Base - Ready to fetch reviews from: https://apps.apple.com/hk/app/espresso-from-the-economist/id896628003\n",
      "2022-08-31 11:32:52,241 [INFO] Base - [id:896628003] Fetched 19 reviews (19 fetched in total)\n"
     ]
    },
    {
     "name": "stdout",
     "output_type": "stream",
     "text": [
      "Found some results! Moving on...\n"
     ]
    }
   ],
   "source": [
    "tt = []\n",
    "english_speaking = ['US','GB','CA','AU','ZA','IE','NZ']\n",
    "big_population = ['IN','US','ID','BR','DE','ES','NL','SE','SG','HK']\n",
    "\n",
    "['TR','IR','TH','FR','GB','IT','ZA','TZ','MM','KR','KE','CO','ES','UA','AR','UG','DZ','SD','IQ','PL','AF','CA','MA','SA','UZ','PE','MY','AO','GH','MZ','VE','YE','NP','MG','KP','CM','CI','AU','TW','NE','LK','BF','RO','ML','CL','KZ','MW','ZM','GT','NL','EC','SY','KH','SN','TD','SO','ZW','GN','RW','TN','BJ','BE','BO','CU','BI','HT','GR','DO','CZ','PT','SE','JO','AZ','HU','AE','HN','BY','TJ','IL','AT','PG','CH','SS','TG','SL','HK','LA','BG','RS','PY','LB','LY','NI','SV','KG','TM','DK','SG','FI','SK','NO','CG','CR','NZ','IE','OM','LR','CF','PS','MR','PA','KW','HR','GE','MD','UY','BA','PR','MN','AM','JM','AL','LT','QA','NA','GM','BW','GA','LS','MK','SI']    \n",
    "    \n",
    "    \n",
    "test_economist = get_apple_reviews('the-economist', app_id='1239397626', country='HK')\n",
    "\n",
    "test_espresso = get_apple_reviews('espresso-from-the-economist', app_id='896628003', country='HK')\n",
    "\n",
    "        "
   ]
  },
  {
   "cell_type": "code",
   "execution_count": 110,
   "metadata": {},
   "outputs": [
    {
     "data": {
      "text/plain": [
       "{'userName': '戰略伙伴',\n",
       " 'title': '不要自動續購功能',\n",
       " 'rating': 1,\n",
       " 'isEdited': False,\n",
       " 'date': datetime.datetime(2015, 5, 4, 9, 49, 28),\n",
       " 'review': '未經授權自動續購引起爭論'}"
      ]
     },
     "execution_count": 110,
     "metadata": {},
     "output_type": "execute_result"
    }
   ],
   "source": [
    "\n",
    "test_espresso[-1]"
   ]
  },
  {
   "cell_type": "code",
   "execution_count": 26,
   "metadata": {},
   "outputs": [
    {
     "data": {
      "text/plain": [
       "{'rating': 5,\n",
       " 'title': 'Great App, fantastic content and journalism.',\n",
       " 'review': 'I’m new to The Economist after a suggestion from a relative.  My goal was to be more purposeful and engaged in the content that I consume and break the habit of endless scrolling of news headlines via Twitter, Google’s and Apple’s customized news outlets.  I find myself actually wanting to read the content published by The Economist rather than skimming headlines.  I enjoy learning about what’s going on around the world rather than being inundated by insignificant headlines that make many of the other news outlets’ front pages just to get clicks.  It’s a completely different experience.  For times when I can’t read the content, like while driving, or if I want to consume some of their longer form content but want to give my eyes a rest from screen fatigue, it’s nice they offer users the option to listen to the content as well.  The daily Espresso emails are short bursts of content in the AM while I have my coffee and then throughout the day I can read further the content that I’m interested in.  Thanks The Economist!\\n\\nSuggestion for future app improvements: \\n(1) Give users the ability to double tap the “Home” button at the bottom to quickly jump to the top of the page.\\n(2) Give users the ability to better organize their Saved content.  Either give them ways to create folders to organize their content, or the capability to apply “tags” to the content.',\n",
       " 'date': datetime.datetime(2021, 12, 1, 12, 37, 22),\n",
       " 'userName': 'Soccrosse43',\n",
       " 'isEdited': False}"
      ]
     },
     "execution_count": 26,
     "metadata": {},
     "output_type": "execute_result"
    }
   ],
   "source": [
    "test_dict2[0]"
   ]
  },
  {
   "cell_type": "code",
   "execution_count": 42,
   "metadata": {},
   "outputs": [
    {
     "data": {
      "text/plain": [
       "0.4166"
      ]
     },
     "execution_count": 42,
     "metadata": {},
     "output_type": "execute_result"
    }
   ],
   "source": [
    "(np.random.poisson((3.52/4), 10000)==0).sum()/10000"
   ]
  },
  {
   "cell_type": "code",
   "execution_count": 44,
   "metadata": {},
   "outputs": [
    {
     "data": {
      "text/plain": [
       "3.6664000000000003"
      ]
     },
     "execution_count": 44,
     "metadata": {},
     "output_type": "execute_result"
    }
   ],
   "source": [
    "1.6664+2"
   ]
  },
  {
   "cell_type": "code",
   "execution_count": 46,
   "metadata": {},
   "outputs": [
    {
     "data": {
      "text/plain": [
       "6.0366"
      ]
     },
     "execution_count": 46,
     "metadata": {},
     "output_type": "execute_result"
    }
   ],
   "source": [
    "2+(0.4166)+((0.49*5) + (0.39*3))"
   ]
  },
  {
   "cell_type": "code",
   "execution_count": 47,
   "metadata": {},
   "outputs": [
    {
     "data": {
      "text/plain": [
       "2.3702"
      ]
     },
     "execution_count": 47,
     "metadata": {},
     "output_type": "execute_result"
    }
   ],
   "source": [
    "6.0366-3.6664"
   ]
  },
  {
   "cell_type": "code",
   "execution_count": 129,
   "metadata": {},
   "outputs": [
    {
     "ename": "NameError",
     "evalue": "name 't1' is not defined",
     "output_type": "error",
     "traceback": [
      "\u001b[0;31m---------------------------------------------------------------------------\u001b[0m",
      "\u001b[0;31mNameError\u001b[0m                                 Traceback (most recent call last)",
      "\u001b[0;32m<ipython-input-129-5db19043943a>\u001b[0m in \u001b[0;36m<module>\u001b[0;34m\u001b[0m\n\u001b[0;32m----> 1\u001b[0;31m \u001b[0mt1\u001b[0m\u001b[0;34m\u001b[0m\u001b[0;34m\u001b[0m\u001b[0m\n\u001b[0m",
      "\u001b[0;31mNameError\u001b[0m: name 't1' is not defined"
     ]
    }
   ],
   "source": [
    "pd.read_parquet('/Users/dominicbates/Documents/GitHub/app-review-classifier/data/')"
   ]
  },
  {
   "cell_type": "code",
   "execution_count": null,
   "metadata": {},
   "outputs": [],
   "source": []
  }
 ],
 "metadata": {
  "kernelspec": {
   "display_name": "Python 3",
   "language": "python",
   "name": "python3"
  },
  "language_info": {
   "codemirror_mode": {
    "name": "ipython",
    "version": 3
   },
   "file_extension": ".py",
   "mimetype": "text/x-python",
   "name": "python",
   "nbconvert_exporter": "python",
   "pygments_lexer": "ipython3",
   "version": "3.7.4"
  }
 },
 "nbformat": 4,
 "nbformat_minor": 2
}
