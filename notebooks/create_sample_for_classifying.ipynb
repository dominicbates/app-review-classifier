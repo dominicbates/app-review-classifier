{
 "cells": [
  {
   "cell_type": "markdown",
   "metadata": {},
   "source": [
    "### Load Modules"
   ]
  },
  {
   "cell_type": "code",
   "execution_count": 1,
   "metadata": {},
   "outputs": [],
   "source": [
    "import pandas as pd\n",
    "import numpy as np\n",
    "import os\n",
    "sub_dir = '/Users/dominicbates/Documents/GitHub/app-review-classifier/'\n",
    "os.chdir(sub_dir)\n",
    "import app_review_classifier.review_scraper as scraper\n"
   ]
  },
  {
   "cell_type": "markdown",
   "metadata": {},
   "source": [
    "### Scrape all review data"
   ]
  },
  {
   "cell_type": "code",
   "execution_count": 8,
   "metadata": {
    "scrolled": true
   },
   "outputs": [
    {
     "name": "stdout",
     "output_type": "stream",
     "text": [
      "Getting apple reviews...\n"
     ]
    },
    {
     "name": "stderr",
     "output_type": "stream",
     "text": [
      "2022-09-01 12:39:32,135 [INFO] Base - Initialised: AppStore('us', 'the-economist', 1239397626)\n",
      "2022-09-01 12:39:32,136 [INFO] Base - Ready to fetch reviews from: https://apps.apple.com/us/app/the-economist/id1239397626\n",
      "2022-09-01 12:39:37,478 [INFO] Base - [id:1239397626] Fetched 220 reviews (220 fetched in total)\n",
      "2022-09-01 12:39:43,265 [INFO] Base - [id:1239397626] Fetched 400 reviews (400 fetched in total)\n",
      "2022-09-01 12:39:49,078 [INFO] Base - [id:1239397626] Fetched 800 reviews (800 fetched in total)\n",
      "2022-09-01 12:39:54,493 [INFO] Base - [id:1239397626] Fetched 1220 reviews (1220 fetched in total)\n",
      "2022-09-01 12:39:57,925 [INFO] Base - [id:1239397626] Fetched 1488 reviews (1488 fetched in total)\n"
     ]
    },
    {
     "name": "stdout",
     "output_type": "stream",
     "text": [
      "Found 1488 results for US! Moving on! :)\n"
     ]
    },
    {
     "name": "stderr",
     "output_type": "stream",
     "text": [
      "2022-09-01 12:40:28,725 [INFO] Base - Initialised: AppStore('us', 'espresso-from-the-economist', 896628003)\n",
      "2022-09-01 12:40:28,726 [INFO] Base - Ready to fetch reviews from: https://apps.apple.com/us/app/espresso-from-the-economist/id896628003\n",
      "2022-09-01 12:40:34,096 [INFO] Base - [id:896628003] Fetched 280 reviews (280 fetched in total)\n",
      "2022-09-01 12:40:45,805 [INFO] Base - [id:896628003] Fetched 620 reviews (620 fetched in total)\n",
      "2022-09-01 12:40:51,407 [INFO] Base - [id:896628003] Fetched 1020 reviews (1020 fetched in total)\n",
      "2022-09-01 12:40:56,659 [INFO] Base - [id:896628003] Fetched 1440 reviews (1440 fetched in total)\n",
      "2022-09-01 12:40:59,013 [INFO] Base - [id:896628003] Fetched 1571 reviews (1571 fetched in total)\n"
     ]
    },
    {
     "name": "stdout",
     "output_type": "stream",
     "text": [
      "Found 1571 results for US! Moving on! :)\n"
     ]
    },
    {
     "name": "stderr",
     "output_type": "stream",
     "text": [
      "2022-09-01 12:41:30,066 [INFO] Base - Initialised: AppStore('gb', 'the-economist', 1239397626)\n",
      "2022-09-01 12:41:30,067 [INFO] Base - Ready to fetch reviews from: https://apps.apple.com/gb/app/the-economist/id1239397626\n",
      "2022-09-01 12:41:49,559 [ERROR] Base - Something went wrong: HTTPSConnectionPool(host='amp-api.apps.apple.com', port=443): Max retries exceeded with url: /v1/catalog/gb/apps/1239397626/reviews?l=en-GB&offset=40&limit=20&platform=web&additionalPlatforms=appletv%2Cipad%2Ciphone%2Cmac (Caused by ResponseError('too many 429 error responses'))\n",
      "2022-09-01 12:41:49,565 [INFO] Base - [id:1239397626] Fetched 40 reviews (40 fetched in total)\n"
     ]
    },
    {
     "name": "stdout",
     "output_type": "stream",
     "text": [
      "Found 40 results for GB!..\n",
      "WARNING: Multiple of 20 so possible HTTP request blocked! Moving on anyway though... :/\n"
     ]
    },
    {
     "name": "stderr",
     "output_type": "stream",
     "text": [
      "2022-09-01 12:42:20,232 [INFO] Base - Initialised: AppStore('gb', 'espresso-from-the-economist', 896628003)\n",
      "2022-09-01 12:42:20,234 [INFO] Base - Ready to fetch reviews from: https://apps.apple.com/gb/app/espresso-from-the-economist/id896628003\n",
      "2022-09-01 12:42:25,342 [INFO] Base - [id:896628003] Fetched 280 reviews (280 fetched in total)\n",
      "2022-09-01 12:42:33,134 [INFO] Base - [id:896628003] Fetched 360 reviews (360 fetched in total)\n",
      "2022-09-01 12:42:46,210 [INFO] Base - [id:896628003] Fetched 400 reviews (400 fetched in total)\n",
      "2022-09-01 12:42:50,162 [INFO] Base - [id:896628003] Fetched 589 reviews (589 fetched in total)\n"
     ]
    },
    {
     "name": "stdout",
     "output_type": "stream",
     "text": [
      "Found 589 results for GB! Moving on! :)\n"
     ]
    },
    {
     "name": "stderr",
     "output_type": "stream",
     "text": [
      "2022-09-01 12:43:20,856 [INFO] Base - Initialised: AppStore('ca', 'the-economist', 1239397626)\n",
      "2022-09-01 12:43:20,857 [INFO] Base - Ready to fetch reviews from: https://apps.apple.com/ca/app/the-economist/id1239397626\n",
      "2022-09-01 12:43:28,118 [INFO] Base - [id:1239397626] Fetched 80 reviews (80 fetched in total)\n",
      "2022-09-01 12:43:31,177 [INFO] Base - [id:1239397626] Fetched 287 reviews (287 fetched in total)\n"
     ]
    },
    {
     "name": "stdout",
     "output_type": "stream",
     "text": [
      "Found 287 results for CA! Moving on! :)\n"
     ]
    },
    {
     "name": "stderr",
     "output_type": "stream",
     "text": [
      "2022-09-01 12:44:02,341 [INFO] Base - Initialised: AppStore('ca', 'espresso-from-the-economist', 896628003)\n",
      "2022-09-01 12:44:02,342 [INFO] Base - Ready to fetch reviews from: https://apps.apple.com/ca/app/espresso-from-the-economist/id896628003\n",
      "2022-09-01 12:44:06,362 [INFO] Base - [id:896628003] Fetched 282 reviews (282 fetched in total)\n"
     ]
    },
    {
     "name": "stdout",
     "output_type": "stream",
     "text": [
      "Found 282 results for CA! Moving on! :)\n"
     ]
    },
    {
     "name": "stderr",
     "output_type": "stream",
     "text": [
      "2022-09-01 12:44:37,158 [INFO] Base - Initialised: AppStore('au', 'the-economist', 1239397626)\n",
      "2022-09-01 12:44:37,158 [INFO] Base - Ready to fetch reviews from: https://apps.apple.com/au/app/the-economist/id1239397626\n",
      "2022-09-01 12:44:38,856 [INFO] Base - [id:1239397626] Fetched 139 reviews (139 fetched in total)\n"
     ]
    },
    {
     "name": "stdout",
     "output_type": "stream",
     "text": [
      "Found 139 results for AU! Moving on! :)\n"
     ]
    },
    {
     "name": "stderr",
     "output_type": "stream",
     "text": [
      "2022-09-01 12:44:50,040 [INFO] Base - Initialised: AppStore('au', 'espresso-from-the-economist', 896628003)\n",
      "2022-09-01 12:44:50,042 [INFO] Base - Ready to fetch reviews from: https://apps.apple.com/au/app/espresso-from-the-economist/id896628003\n",
      "2022-09-01 12:44:51,809 [INFO] Base - [id:896628003] Fetched 129 reviews (129 fetched in total)\n"
     ]
    },
    {
     "name": "stdout",
     "output_type": "stream",
     "text": [
      "Found 129 results for AU! Moving on! :)\n"
     ]
    },
    {
     "name": "stderr",
     "output_type": "stream",
     "text": [
      "2022-09-01 12:45:03,498 [INFO] Base - Initialised: AppStore('za', 'the-economist', 1239397626)\n",
      "2022-09-01 12:45:03,500 [INFO] Base - Ready to fetch reviews from: https://apps.apple.com/za/app/the-economist/id1239397626\n",
      "2022-09-01 12:45:03,756 [INFO] Base - [id:1239397626] Fetched 18 reviews (18 fetched in total)\n"
     ]
    },
    {
     "name": "stdout",
     "output_type": "stream",
     "text": [
      "Found 18 results for ZA! Moving on! :)\n"
     ]
    },
    {
     "name": "stderr",
     "output_type": "stream",
     "text": [
      "2022-09-01 12:45:14,616 [INFO] Base - Initialised: AppStore('za', 'espresso-from-the-economist', 896628003)\n",
      "2022-09-01 12:45:14,618 [INFO] Base - Ready to fetch reviews from: https://apps.apple.com/za/app/espresso-from-the-economist/id896628003\n",
      "2022-09-01 12:45:33,170 [ERROR] Base - Something went wrong: HTTPSConnectionPool(host='amp-api.apps.apple.com', port=443): Max retries exceeded with url: /v1/catalog/za/apps/896628003/reviews?l=en-GB&offset=0&limit=20&platform=web&additionalPlatforms=appletv%2Cipad%2Ciphone%2Cmac (Caused by ResponseError('too many 429 error responses'))\n",
      "2022-09-01 12:45:33,173 [INFO] Base - [id:896628003] Fetched 0 reviews (0 fetched in total)\n"
     ]
    },
    {
     "name": "stdout",
     "output_type": "stream",
     "text": [
      "No results found for ZA - let's wait a sec, then retry...\n"
     ]
    },
    {
     "name": "stderr",
     "output_type": "stream",
     "text": [
      "2022-09-01 12:45:43,291 [INFO] Base - Initialised: AppStore('za', 'espresso-from-the-economist', 896628003)\n",
      "2022-09-01 12:45:43,292 [INFO] Base - Ready to fetch reviews from: https://apps.apple.com/za/app/espresso-from-the-economist/id896628003\n",
      "2022-09-01 12:45:43,671 [INFO] Base - [id:896628003] Fetched 17 reviews (17 fetched in total)\n"
     ]
    },
    {
     "name": "stdout",
     "output_type": "stream",
     "text": [
      "Found 17 results for ZA! Moving on! :)\n"
     ]
    },
    {
     "name": "stderr",
     "output_type": "stream",
     "text": [
      "2022-09-01 12:45:54,351 [INFO] Base - Initialised: AppStore('ie', 'the-economist', 1239397626)\n",
      "2022-09-01 12:45:54,352 [INFO] Base - Ready to fetch reviews from: https://apps.apple.com/ie/app/the-economist/id1239397626\n",
      "2022-09-01 12:45:54,837 [INFO] Base - [id:1239397626] Fetched 27 reviews (27 fetched in total)\n"
     ]
    },
    {
     "name": "stdout",
     "output_type": "stream",
     "text": [
      "Found 27 results for IE! Moving on! :)\n"
     ]
    },
    {
     "name": "stderr",
     "output_type": "stream",
     "text": [
      "2022-09-01 12:46:05,517 [INFO] Base - Initialised: AppStore('ie', 'espresso-from-the-economist', 896628003)\n",
      "2022-09-01 12:46:05,518 [INFO] Base - Ready to fetch reviews from: https://apps.apple.com/ie/app/espresso-from-the-economist/id896628003\n",
      "2022-09-01 12:46:24,100 [ERROR] Base - Something went wrong: HTTPSConnectionPool(host='amp-api.apps.apple.com', port=443): Max retries exceeded with url: /v1/catalog/ie/apps/896628003/reviews?l=en-GB&offset=0&limit=20&platform=web&additionalPlatforms=appletv%2Cipad%2Ciphone%2Cmac (Caused by ResponseError('too many 429 error responses'))\n",
      "2022-09-01 12:46:24,105 [INFO] Base - [id:896628003] Fetched 0 reviews (0 fetched in total)\n"
     ]
    },
    {
     "name": "stdout",
     "output_type": "stream",
     "text": [
      "No results found for IE - let's wait a sec, then retry...\n"
     ]
    },
    {
     "name": "stderr",
     "output_type": "stream",
     "text": [
      "2022-09-01 12:46:34,228 [INFO] Base - Initialised: AppStore('ie', 'espresso-from-the-economist', 896628003)\n",
      "2022-09-01 12:46:34,229 [INFO] Base - Ready to fetch reviews from: https://apps.apple.com/ie/app/espresso-from-the-economist/id896628003\n",
      "2022-09-01 12:46:34,470 [INFO] Base - [id:896628003] Fetched 17 reviews (17 fetched in total)\n"
     ]
    },
    {
     "name": "stdout",
     "output_type": "stream",
     "text": [
      "Found 17 results for IE! Moving on! :)\n"
     ]
    },
    {
     "name": "stderr",
     "output_type": "stream",
     "text": [
      "2022-09-01 12:46:45,243 [INFO] Base - Initialised: AppStore('nz', 'the-economist', 1239397626)\n",
      "2022-09-01 12:46:45,244 [INFO] Base - Ready to fetch reviews from: https://apps.apple.com/nz/app/the-economist/id1239397626\n",
      "2022-09-01 12:47:04,334 [INFO] Base - [id:1239397626] Fetched 17 reviews (17 fetched in total)\n"
     ]
    },
    {
     "name": "stdout",
     "output_type": "stream",
     "text": [
      "Found 17 results for NZ! Moving on! :)\n"
     ]
    },
    {
     "name": "stderr",
     "output_type": "stream",
     "text": [
      "2022-09-01 12:47:23,982 [INFO] Base - Initialised: AppStore('nz', 'espresso-from-the-economist', 896628003)\n",
      "2022-09-01 12:47:23,983 [INFO] Base - Ready to fetch reviews from: https://apps.apple.com/nz/app/espresso-from-the-economist/id896628003\n",
      "2022-09-01 12:47:24,237 [INFO] Base - [id:896628003] Fetched 13 reviews (13 fetched in total)\n"
     ]
    },
    {
     "name": "stdout",
     "output_type": "stream",
     "text": [
      "Found 13 results for NZ! Moving on! :)\n"
     ]
    },
    {
     "name": "stderr",
     "output_type": "stream",
     "text": [
      "2022-09-01 12:47:45,691 [INFO] Base - Initialised: AppStore('in', 'the-economist', 1239397626)\n",
      "2022-09-01 12:47:45,693 [INFO] Base - Ready to fetch reviews from: https://apps.apple.com/in/app/the-economist/id1239397626\n",
      "2022-09-01 12:47:47,913 [INFO] Base - [id:1239397626] Fetched 91 reviews (91 fetched in total)\n"
     ]
    },
    {
     "name": "stdout",
     "output_type": "stream",
     "text": [
      "Found 91 results for IN! Moving on! :)\n"
     ]
    },
    {
     "name": "stderr",
     "output_type": "stream",
     "text": [
      "2022-09-01 12:47:58,568 [INFO] Base - Initialised: AppStore('in', 'espresso-from-the-economist', 896628003)\n",
      "2022-09-01 12:47:58,569 [INFO] Base - Ready to fetch reviews from: https://apps.apple.com/in/app/espresso-from-the-economist/id896628003\n",
      "2022-09-01 12:47:59,980 [INFO] Base - [id:896628003] Fetched 53 reviews (53 fetched in total)\n"
     ]
    },
    {
     "name": "stdout",
     "output_type": "stream",
     "text": [
      "Found 53 results for IN! Moving on! :)\n"
     ]
    },
    {
     "name": "stderr",
     "output_type": "stream",
     "text": [
      "2022-09-01 12:48:10,763 [INFO] Base - Initialised: AppStore('id', 'the-economist', 1239397626)\n",
      "2022-09-01 12:48:10,765 [INFO] Base - Ready to fetch reviews from: https://apps.apple.com/id/app/the-economist/id1239397626\n",
      "2022-09-01 12:48:11,048 [INFO] Base - [id:1239397626] Fetched 9 reviews (9 fetched in total)\n"
     ]
    },
    {
     "name": "stdout",
     "output_type": "stream",
     "text": [
      "Found 9 results for ID! Moving on! :)\n"
     ]
    },
    {
     "name": "stderr",
     "output_type": "stream",
     "text": [
      "2022-09-01 12:48:21,708 [INFO] Base - Initialised: AppStore('id', 'espresso-from-the-economist', 896628003)\n",
      "2022-09-01 12:48:21,709 [INFO] Base - Ready to fetch reviews from: https://apps.apple.com/id/app/espresso-from-the-economist/id896628003\n",
      "2022-09-01 12:48:40,554 [ERROR] Base - Something went wrong: HTTPSConnectionPool(host='amp-api.apps.apple.com', port=443): Max retries exceeded with url: /v1/catalog/id/apps/896628003/reviews?l=en-GB&offset=0&limit=20&platform=web&additionalPlatforms=appletv%2Cipad%2Ciphone%2Cmac (Caused by ResponseError('too many 429 error responses'))\n",
      "2022-09-01 12:48:40,560 [INFO] Base - [id:896628003] Fetched 0 reviews (0 fetched in total)\n"
     ]
    },
    {
     "name": "stdout",
     "output_type": "stream",
     "text": [
      "No results found for ID - let's wait a sec, then retry...\n"
     ]
    },
    {
     "name": "stderr",
     "output_type": "stream",
     "text": [
      "2022-09-01 12:48:50,673 [INFO] Base - Initialised: AppStore('id', 'espresso-from-the-economist', 896628003)\n",
      "2022-09-01 12:48:50,674 [INFO] Base - Ready to fetch reviews from: https://apps.apple.com/id/app/espresso-from-the-economist/id896628003\n",
      "2022-09-01 12:49:09,243 [ERROR] Base - Something went wrong: HTTPSConnectionPool(host='amp-api.apps.apple.com', port=443): Max retries exceeded with url: /v1/catalog/id/apps/896628003/reviews?l=en-GB&offset=0&limit=20&platform=web&additionalPlatforms=appletv%2Cipad%2Ciphone%2Cmac (Caused by ResponseError('too many 429 error responses'))\n",
      "2022-09-01 12:49:09,247 [INFO] Base - [id:896628003] Fetched 0 reviews (0 fetched in total)\n"
     ]
    },
    {
     "name": "stdout",
     "output_type": "stream",
     "text": [
      "No results found for ID - let's wait a sec, then retry...\n"
     ]
    },
    {
     "name": "stderr",
     "output_type": "stream",
     "text": [
      "2022-09-01 12:49:21,946 [INFO] Base - Initialised: AppStore('id', 'espresso-from-the-economist', 896628003)\n",
      "2022-09-01 12:49:21,948 [INFO] Base - Ready to fetch reviews from: https://apps.apple.com/id/app/espresso-from-the-economist/id896628003\n",
      "2022-09-01 12:49:22,221 [INFO] Base - [id:896628003] Fetched 3 reviews (3 fetched in total)\n"
     ]
    },
    {
     "name": "stdout",
     "output_type": "stream",
     "text": [
      "Found 3 results for ID! Moving on! :)\n"
     ]
    },
    {
     "name": "stderr",
     "output_type": "stream",
     "text": [
      "2022-09-01 12:49:40,064 [INFO] Base - Initialised: AppStore('br', 'the-economist', 1239397626)\n",
      "2022-09-01 12:49:40,066 [INFO] Base - Ready to fetch reviews from: https://apps.apple.com/br/app/the-economist/id1239397626\n",
      "2022-09-01 12:49:59,126 [ERROR] Base - Something went wrong: HTTPSConnectionPool(host='amp-api.apps.apple.com', port=443): Max retries exceeded with url: /v1/catalog/br/apps/1239397626/reviews?l=en-GB&offset=20&limit=20&platform=web&additionalPlatforms=appletv%2Cipad%2Ciphone%2Cmac (Caused by ResponseError('too many 429 error responses'))\n",
      "2022-09-01 12:49:59,130 [INFO] Base - [id:1239397626] Fetched 20 reviews (20 fetched in total)\n"
     ]
    },
    {
     "name": "stdout",
     "output_type": "stream",
     "text": [
      "Found 20 results for BR!..\n",
      "WARNING: Multiple of 20 so possible HTTP request blocked! Moving on anyway though... :/\n"
     ]
    },
    {
     "name": "stderr",
     "output_type": "stream",
     "text": [
      "2022-09-01 12:50:10,823 [INFO] Base - Initialised: AppStore('br', 'espresso-from-the-economist', 896628003)\n",
      "2022-09-01 12:50:10,824 [INFO] Base - Ready to fetch reviews from: https://apps.apple.com/br/app/espresso-from-the-economist/id896628003\n",
      "2022-09-01 12:50:11,276 [INFO] Base - [id:896628003] Fetched 34 reviews (34 fetched in total)\n"
     ]
    },
    {
     "name": "stdout",
     "output_type": "stream",
     "text": [
      "Found 34 results for BR! Moving on! :)\n"
     ]
    },
    {
     "name": "stderr",
     "output_type": "stream",
     "text": [
      "2022-09-01 12:50:43,058 [INFO] Base - Initialised: AppStore('de', 'the-economist', 1239397626)\n",
      "2022-09-01 12:50:43,059 [INFO] Base - Ready to fetch reviews from: https://apps.apple.com/de/app/the-economist/id1239397626\n",
      "2022-09-01 12:50:45,766 [INFO] Base - [id:1239397626] Fetched 142 reviews (142 fetched in total)\n"
     ]
    },
    {
     "name": "stdout",
     "output_type": "stream",
     "text": [
      "Found 142 results for DE! Moving on! :)\n"
     ]
    },
    {
     "name": "stderr",
     "output_type": "stream",
     "text": [
      "2022-09-01 12:50:56,432 [INFO] Base - Initialised: AppStore('de', 'espresso-from-the-economist', 896628003)\n",
      "2022-09-01 12:50:56,433 [INFO] Base - Ready to fetch reviews from: https://apps.apple.com/de/app/espresso-from-the-economist/id896628003\n",
      "2022-09-01 12:50:58,770 [INFO] Base - [id:896628003] Fetched 115 reviews (115 fetched in total)\n"
     ]
    },
    {
     "name": "stdout",
     "output_type": "stream",
     "text": [
      "Found 115 results for DE! Moving on! :)\n"
     ]
    },
    {
     "name": "stderr",
     "output_type": "stream",
     "text": [
      "2022-09-01 12:51:09,437 [INFO] Base - Initialised: AppStore('es', 'the-economist', 1239397626)\n",
      "2022-09-01 12:51:09,438 [INFO] Base - Ready to fetch reviews from: https://apps.apple.com/es/app/the-economist/id1239397626\n",
      "2022-09-01 12:51:10,549 [INFO] Base - [id:1239397626] Fetched 30 reviews (30 fetched in total)\n"
     ]
    },
    {
     "name": "stdout",
     "output_type": "stream",
     "text": [
      "Found 30 results for ES! Moving on! :)\n"
     ]
    },
    {
     "name": "stderr",
     "output_type": "stream",
     "text": [
      "2022-09-01 12:51:21,379 [INFO] Base - Initialised: AppStore('es', 'espresso-from-the-economist', 896628003)\n",
      "2022-09-01 12:51:21,380 [INFO] Base - Ready to fetch reviews from: https://apps.apple.com/es/app/espresso-from-the-economist/id896628003\n",
      "2022-09-01 12:51:21,816 [INFO] Base - [id:896628003] Fetched 27 reviews (27 fetched in total)\n"
     ]
    },
    {
     "name": "stdout",
     "output_type": "stream",
     "text": [
      "Found 27 results for ES! Moving on! :)\n"
     ]
    },
    {
     "name": "stderr",
     "output_type": "stream",
     "text": [
      "2022-09-01 12:51:33,092 [INFO] Base - Initialised: AppStore('nl', 'the-economist', 1239397626)\n",
      "2022-09-01 12:51:33,093 [INFO] Base - Ready to fetch reviews from: https://apps.apple.com/nl/app/the-economist/id1239397626\n",
      "2022-09-01 12:51:52,300 [INFO] Base - [id:1239397626] Fetched 20 reviews (20 fetched in total)\n",
      "2022-09-01 12:51:53,104 [INFO] Base - [id:1239397626] Fetched 66 reviews (66 fetched in total)\n"
     ]
    },
    {
     "name": "stdout",
     "output_type": "stream",
     "text": [
      "Found 66 results for NL! Moving on! :)\n"
     ]
    },
    {
     "name": "stderr",
     "output_type": "stream",
     "text": [
      "2022-09-01 12:52:03,823 [INFO] Base - Initialised: AppStore('nl', 'espresso-from-the-economist', 896628003)\n",
      "2022-09-01 12:52:03,824 [INFO] Base - Ready to fetch reviews from: https://apps.apple.com/nl/app/espresso-from-the-economist/id896628003\n",
      "2022-09-01 12:52:04,844 [INFO] Base - [id:896628003] Fetched 57 reviews (57 fetched in total)\n"
     ]
    },
    {
     "name": "stdout",
     "output_type": "stream",
     "text": [
      "Found 57 results for NL! Moving on! :)\n"
     ]
    },
    {
     "name": "stderr",
     "output_type": "stream",
     "text": [
      "2022-09-01 12:52:15,482 [INFO] Base - Initialised: AppStore('se', 'the-economist', 1239397626)\n",
      "2022-09-01 12:52:15,483 [INFO] Base - Ready to fetch reviews from: https://apps.apple.com/se/app/the-economist/id1239397626\n",
      "2022-09-01 12:52:16,039 [INFO] Base - [id:1239397626] Fetched 40 reviews (40 fetched in total)\n"
     ]
    },
    {
     "name": "stdout",
     "output_type": "stream",
     "text": [
      "Found 40 results for SE!..\n",
      "WARNING: Multiple of 20 so possible HTTP request blocked! Moving on anyway though... :/\n"
     ]
    },
    {
     "name": "stderr",
     "output_type": "stream",
     "text": [
      "2022-09-01 12:52:32,676 [INFO] Base - Initialised: AppStore('se', 'espresso-from-the-economist', 896628003)\n",
      "2022-09-01 12:52:32,677 [INFO] Base - Ready to fetch reviews from: https://apps.apple.com/se/app/espresso-from-the-economist/id896628003\n",
      "2022-09-01 12:52:51,354 [ERROR] Base - Something went wrong: HTTPSConnectionPool(host='amp-api.apps.apple.com', port=443): Max retries exceeded with url: /v1/catalog/se/apps/896628003/reviews?l=en-GB&offset=0&limit=20&platform=web&additionalPlatforms=appletv%2Cipad%2Ciphone%2Cmac (Caused by ResponseError('too many 429 error responses'))\n",
      "2022-09-01 12:52:51,359 [INFO] Base - [id:896628003] Fetched 0 reviews (0 fetched in total)\n"
     ]
    },
    {
     "name": "stdout",
     "output_type": "stream",
     "text": [
      "No results found for SE - let's wait a sec, then retry...\n"
     ]
    },
    {
     "name": "stderr",
     "output_type": "stream",
     "text": [
      "2022-09-01 12:53:01,468 [INFO] Base - Initialised: AppStore('se', 'espresso-from-the-economist', 896628003)\n",
      "2022-09-01 12:53:01,469 [INFO] Base - Ready to fetch reviews from: https://apps.apple.com/se/app/espresso-from-the-economist/id896628003\n",
      "2022-09-01 12:53:02,765 [INFO] Base - [id:896628003] Fetched 63 reviews (63 fetched in total)\n"
     ]
    },
    {
     "name": "stdout",
     "output_type": "stream",
     "text": [
      "Found 63 results for SE! Moving on! :)\n"
     ]
    },
    {
     "name": "stderr",
     "output_type": "stream",
     "text": [
      "2022-09-01 12:53:13,398 [INFO] Base - Initialised: AppStore('sg', 'the-economist', 1239397626)\n",
      "2022-09-01 12:53:13,399 [INFO] Base - Ready to fetch reviews from: https://apps.apple.com/sg/app/the-economist/id1239397626\n",
      "2022-09-01 12:53:31,984 [ERROR] Base - Something went wrong: HTTPSConnectionPool(host='amp-api.apps.apple.com', port=443): Max retries exceeded with url: /v1/catalog/sg/apps/1239397626/reviews?l=en-GB&offset=0&limit=20&platform=web&additionalPlatforms=appletv%2Cipad%2Ciphone%2Cmac (Caused by ResponseError('too many 429 error responses'))\n",
      "2022-09-01 12:53:31,989 [INFO] Base - [id:1239397626] Fetched 0 reviews (0 fetched in total)\n"
     ]
    },
    {
     "name": "stdout",
     "output_type": "stream",
     "text": [
      "No results found for SG - let's wait a sec, then retry...\n"
     ]
    },
    {
     "name": "stderr",
     "output_type": "stream",
     "text": [
      "2022-09-01 12:53:42,103 [INFO] Base - Initialised: AppStore('sg', 'the-economist', 1239397626)\n",
      "2022-09-01 12:53:42,104 [INFO] Base - Ready to fetch reviews from: https://apps.apple.com/sg/app/the-economist/id1239397626\n",
      "2022-09-01 12:53:42,644 [INFO] Base - [id:1239397626] Fetched 35 reviews (35 fetched in total)\n"
     ]
    },
    {
     "name": "stdout",
     "output_type": "stream",
     "text": [
      "Found 35 results for SG! Moving on! :)\n"
     ]
    },
    {
     "name": "stderr",
     "output_type": "stream",
     "text": [
      "2022-09-01 12:54:03,643 [INFO] Base - Initialised: AppStore('sg', 'espresso-from-the-economist', 896628003)\n",
      "2022-09-01 12:54:03,644 [INFO] Base - Ready to fetch reviews from: https://apps.apple.com/sg/app/espresso-from-the-economist/id896628003\n",
      "2022-09-01 12:54:04,320 [INFO] Base - [id:896628003] Fetched 35 reviews (35 fetched in total)\n"
     ]
    },
    {
     "name": "stdout",
     "output_type": "stream",
     "text": [
      "Found 35 results for SG! Moving on! :)\n",
      "Apple reviews downloaded!\n",
      "Getting google reviews...\n",
      "Google reviews downloaded!\n"
     ]
    }
   ],
   "source": [
    "reviews = scraper.get_all_reviews(max_retries=10)\n",
    "# US failed for espresso and economist (just 20 reviews)\n",
    "# "
   ]
  },
  {
   "cell_type": "code",
   "execution_count": 9,
   "metadata": {},
   "outputs": [],
   "source": [
    "# reviews.to_parquet('/Users/dominicbates/Documents/GitHub/app-review-classifier/data/training_sample/raw_review_data_01_sep_csq_3.parquet')\n",
    "\n",
    "# First run: Maybe set little 10s wait after each successful run?\n",
    "# us espresso failed after 700 # FIXED\n",
    "# gb economist failed after 40  # FIXED\n",
    "# gb espresso failed after 220 # FIXED\n",
    "# ca the economist failed after 100 # Just fixed\n",
    "# ca espresso failed after 20 # FIXED\n",
    "# IN the conomist only 20 # FIXED\n",
    "# es the espresso only 20 # FIXED\n",
    "\n",
    "# Everything else good!!!!\n",
    "\n"
   ]
  },
  {
   "cell_type": "code",
   "execution_count": 2,
   "metadata": {},
   "outputs": [],
   "source": [
    "reviews_1 = pd.read_parquet('/Users/dominicbates/Documents/GitHub/app-review-classifier/data/training_sample/raw_review_data_01_sep_csq.parquet')\n",
    "reviews_2 = pd.read_parquet('/Users/dominicbates/Documents/GitHub/app-review-classifier/data/training_sample/raw_review_data_01_sep_csq_2.parquet')\n",
    "reviews_3 = pd.read_parquet('/Users/dominicbates/Documents/GitHub/app-review-classifier/data/training_sample/raw_review_data_01_sep_csq_3.parquet')\n",
    " \n",
    "reviews_1['row_created_date'] = pd.Timestamp('2022-09-01 10:00:00')\n",
    "reviews_2['row_created_date'] = pd.Timestamp('2022-09-01 12:00:00')\n",
    "reviews_3['row_created_date'] = pd.Timestamp.now()\n",
    "\n"
   ]
  },
  {
   "cell_type": "code",
   "execution_count": 14,
   "metadata": {},
   "outputs": [
    {
     "name": "stdout",
     "output_type": "stream",
     "text": [
      "Updating reviews using supplied dataframe (check that \"row_created_date\" column is defined)...\n",
      "Combining with old reviews dataframe...\n",
      "\n",
      "Original reviews dataframe length: 13551\n",
      "Extracted reviews dataframe length: 15899\n",
      "Overlapping reviews: 15948\n",
      "Updating reviews using supplied dataframe (check that \"row_created_date\" column is defined)...\n",
      "Combining with old reviews dataframe...\n",
      "\n",
      "Original reviews dataframe length: 15948\n",
      "Extracted reviews dataframe length: 15345\n",
      "Overlapping reviews: 15995\n"
     ]
    }
   ],
   "source": [
    "reviews_comb = scraper.update_reviews_df(reviews_1, reviews_2)\n",
    "reviews_comb = scraper.update_reviews_df(reviews_comb, reviews_3)\n",
    "reviews_comb.to_parquet('/Users/dominicbates/Documents/GitHub/app-review-classifier/data/training_sample/reviews_prod_01_sep.parquet')\n"
   ]
  },
  {
   "cell_type": "markdown",
   "metadata": {},
   "source": [
    "### Create sample for classifying"
   ]
  },
  {
   "cell_type": "code",
   "execution_count": 21,
   "metadata": {},
   "outputs": [
    {
     "name": "stdout",
     "output_type": "stream",
     "text": [
      "Min date of \"The Economist\" app review: 2018-05-02 14:45:05\n"
     ]
    }
   ],
   "source": [
    "m_economist = (reviews_comb['app']=='The Economist')\n",
    "print('Min date of \"The Economist\" app review:',reviews_comb['date'][m_economist].min())\n",
    "\n",
    "# Date the economist app was released (checked in data)\n"
   ]
  },
  {
   "cell_type": "code",
   "execution_count": 22,
   "metadata": {},
   "outputs": [
    {
     "name": "stdout",
     "output_type": "stream",
     "text": [
      "Original length: 15995\n",
      "New length: 9115\n"
     ]
    }
   ],
   "source": [
    "print('Original length:', len(reviews_comb))\n",
    "# Date the economist app was released (checked in data)\n",
    "m_after_new_app = reviews_comb['date'] >=  '2018-05-01'\n",
    "\n",
    "# Limit to just these reviews\n",
    "reviews_comb = reviews_comb[m_after_new_app]\n",
    "print('New length:', len(reviews_comb))"
   ]
  },
  {
   "cell_type": "code",
   "execution_count": 25,
   "metadata": {},
   "outputs": [
    {
     "data": {
      "text/html": [
       "<div>\n",
       "<style scoped>\n",
       "    .dataframe tbody tr th:only-of-type {\n",
       "        vertical-align: middle;\n",
       "    }\n",
       "\n",
       "    .dataframe tbody tr th {\n",
       "        vertical-align: top;\n",
       "    }\n",
       "\n",
       "    .dataframe thead th {\n",
       "        text-align: right;\n",
       "    }\n",
       "</style>\n",
       "<table border=\"1\" class=\"dataframe\">\n",
       "  <thead>\n",
       "    <tr style=\"text-align: right;\">\n",
       "      <th></th>\n",
       "      <th>review</th>\n",
       "      <th>date</th>\n",
       "      <th>title</th>\n",
       "      <th>rating</th>\n",
       "      <th>app</th>\n",
       "      <th>os</th>\n",
       "      <th>uniqueid</th>\n",
       "      <th>row_created_date</th>\n",
       "    </tr>\n",
       "  </thead>\n",
       "  <tbody>\n",
       "    <tr>\n",
       "      <th>0</th>\n",
       "      <td>Love the app, beautiful and love the audio int...</td>\n",
       "      <td>2020-04-15 07:25:19</td>\n",
       "      <td>Beautiful App - Login Woes</td>\n",
       "      <td>5</td>\n",
       "      <td>The Economist</td>\n",
       "      <td>iOS</td>\n",
       "      <td>apple_The Economist_sirbeeth</td>\n",
       "      <td>2022-09-01 10:00:00</td>\n",
       "    </tr>\n",
       "    <tr>\n",
       "      <th>1</th>\n",
       "      <td>The Espresso was good earlier, reading it used...</td>\n",
       "      <td>2019-09-05 16:08:06</td>\n",
       "      <td>World in Brief is repeated in Today’s Agenda</td>\n",
       "      <td>1</td>\n",
       "      <td>Espresso</td>\n",
       "      <td>iOS</td>\n",
       "      <td>apple_Espresso_Abyss312</td>\n",
       "      <td>2022-09-01 10:00:00</td>\n",
       "    </tr>\n",
       "    <tr>\n",
       "      <th>2</th>\n",
       "      <td>The Economist is to be complimented on its “Mo...</td>\n",
       "      <td>2021-09-20 13:36:50</td>\n",
       "      <td>Being Brief</td>\n",
       "      <td>5</td>\n",
       "      <td>The Economist</td>\n",
       "      <td>iOS</td>\n",
       "      <td>apple_The Economist_DVJake</td>\n",
       "      <td>2022-09-01 12:00:00</td>\n",
       "    </tr>\n",
       "    <tr>\n",
       "      <th>3</th>\n",
       "      <td>Good writing is good thinking with ink (or pix...</td>\n",
       "      <td>2022-08-20 09:18:44</td>\n",
       "      <td>ESSENTIAL</td>\n",
       "      <td>5</td>\n",
       "      <td>The Economist</td>\n",
       "      <td>iOS</td>\n",
       "      <td>apple_The Economist_jhatpro</td>\n",
       "      <td>2022-09-01 12:00:00</td>\n",
       "    </tr>\n",
       "    <tr>\n",
       "      <th>4</th>\n",
       "      <td>You need to pay for everything?!</td>\n",
       "      <td>2021-03-08 08:30:33</td>\n",
       "      <td></td>\n",
       "      <td>1</td>\n",
       "      <td>The Economist</td>\n",
       "      <td>Android</td>\n",
       "      <td>google_The Economist_Swadesh</td>\n",
       "      <td>2022-09-01 10:00:00</td>\n",
       "    </tr>\n",
       "  </tbody>\n",
       "</table>\n",
       "</div>"
      ],
      "text/plain": [
       "                                              review                date  \\\n",
       "0  Love the app, beautiful and love the audio int... 2020-04-15 07:25:19   \n",
       "1  The Espresso was good earlier, reading it used... 2019-09-05 16:08:06   \n",
       "2  The Economist is to be complimented on its “Mo... 2021-09-20 13:36:50   \n",
       "3  Good writing is good thinking with ink (or pix... 2022-08-20 09:18:44   \n",
       "4                   You need to pay for everything?! 2021-03-08 08:30:33   \n",
       "\n",
       "                                          title  rating            app  \\\n",
       "0                    Beautiful App - Login Woes       5  The Economist   \n",
       "1  World in Brief is repeated in Today’s Agenda       1       Espresso   \n",
       "2                                   Being Brief       5  The Economist   \n",
       "3                                     ESSENTIAL       5  The Economist   \n",
       "4                                                     1  The Economist   \n",
       "\n",
       "        os                      uniqueid    row_created_date  \n",
       "0      iOS  apple_The Economist_sirbeeth 2022-09-01 10:00:00  \n",
       "1      iOS       apple_Espresso_Abyss312 2022-09-01 10:00:00  \n",
       "2      iOS    apple_The Economist_DVJake 2022-09-01 12:00:00  \n",
       "3      iOS   apple_The Economist_jhatpro 2022-09-01 12:00:00  \n",
       "4  Android  google_The Economist_Swadesh 2022-09-01 10:00:00  "
      ]
     },
     "execution_count": 25,
     "metadata": {},
     "output_type": "execute_result"
    }
   ],
   "source": [
    "# Unshuffled dataframe \n",
    "reviews_comb.head()"
   ]
  },
  {
   "cell_type": "code",
   "execution_count": 24,
   "metadata": {},
   "outputs": [
    {
     "data": {
      "text/html": [
       "<div>\n",
       "<style scoped>\n",
       "    .dataframe tbody tr th:only-of-type {\n",
       "        vertical-align: middle;\n",
       "    }\n",
       "\n",
       "    .dataframe tbody tr th {\n",
       "        vertical-align: top;\n",
       "    }\n",
       "\n",
       "    .dataframe thead th {\n",
       "        text-align: right;\n",
       "    }\n",
       "</style>\n",
       "<table border=\"1\" class=\"dataframe\">\n",
       "  <thead>\n",
       "    <tr style=\"text-align: right;\">\n",
       "      <th></th>\n",
       "      <th>review</th>\n",
       "      <th>date</th>\n",
       "      <th>title</th>\n",
       "      <th>rating</th>\n",
       "      <th>app</th>\n",
       "      <th>os</th>\n",
       "      <th>uniqueid</th>\n",
       "      <th>row_created_date</th>\n",
       "    </tr>\n",
       "  </thead>\n",
       "  <tbody>\n",
       "    <tr>\n",
       "      <th>0</th>\n",
       "      <td>Love the app, beautiful and love the audio int...</td>\n",
       "      <td>2020-04-15 07:25:19</td>\n",
       "      <td>Beautiful App - Login Woes</td>\n",
       "      <td>5</td>\n",
       "      <td>The Economist</td>\n",
       "      <td>iOS</td>\n",
       "      <td>apple_The Economist_sirbeeth</td>\n",
       "      <td>2022-09-01 10:00:00</td>\n",
       "    </tr>\n",
       "    <tr>\n",
       "      <th>1</th>\n",
       "      <td>The Espresso was good earlier, reading it used...</td>\n",
       "      <td>2019-09-05 16:08:06</td>\n",
       "      <td>World in Brief is repeated in Today’s Agenda</td>\n",
       "      <td>1</td>\n",
       "      <td>Espresso</td>\n",
       "      <td>iOS</td>\n",
       "      <td>apple_Espresso_Abyss312</td>\n",
       "      <td>2022-09-01 10:00:00</td>\n",
       "    </tr>\n",
       "    <tr>\n",
       "      <th>2</th>\n",
       "      <td>The Economist is to be complimented on its “Mo...</td>\n",
       "      <td>2021-09-20 13:36:50</td>\n",
       "      <td>Being Brief</td>\n",
       "      <td>5</td>\n",
       "      <td>The Economist</td>\n",
       "      <td>iOS</td>\n",
       "      <td>apple_The Economist_DVJake</td>\n",
       "      <td>2022-09-01 12:00:00</td>\n",
       "    </tr>\n",
       "    <tr>\n",
       "      <th>3</th>\n",
       "      <td>Good writing is good thinking with ink (or pix...</td>\n",
       "      <td>2022-08-20 09:18:44</td>\n",
       "      <td>ESSENTIAL</td>\n",
       "      <td>5</td>\n",
       "      <td>The Economist</td>\n",
       "      <td>iOS</td>\n",
       "      <td>apple_The Economist_jhatpro</td>\n",
       "      <td>2022-09-01 12:00:00</td>\n",
       "    </tr>\n",
       "    <tr>\n",
       "      <th>4</th>\n",
       "      <td>You need to pay for everything?!</td>\n",
       "      <td>2021-03-08 08:30:33</td>\n",
       "      <td></td>\n",
       "      <td>1</td>\n",
       "      <td>The Economist</td>\n",
       "      <td>Android</td>\n",
       "      <td>google_The Economist_Swadesh</td>\n",
       "      <td>2022-09-01 10:00:00</td>\n",
       "    </tr>\n",
       "  </tbody>\n",
       "</table>\n",
       "</div>"
      ],
      "text/plain": [
       "                                              review                date  \\\n",
       "0  Love the app, beautiful and love the audio int... 2020-04-15 07:25:19   \n",
       "1  The Espresso was good earlier, reading it used... 2019-09-05 16:08:06   \n",
       "2  The Economist is to be complimented on its “Mo... 2021-09-20 13:36:50   \n",
       "3  Good writing is good thinking with ink (or pix... 2022-08-20 09:18:44   \n",
       "4                   You need to pay for everything?! 2021-03-08 08:30:33   \n",
       "\n",
       "                                          title  rating            app  \\\n",
       "0                    Beautiful App - Login Woes       5  The Economist   \n",
       "1  World in Brief is repeated in Today’s Agenda       1       Espresso   \n",
       "2                                   Being Brief       5  The Economist   \n",
       "3                                     ESSENTIAL       5  The Economist   \n",
       "4                                                     1  The Economist   \n",
       "\n",
       "        os                      uniqueid    row_created_date  \n",
       "0      iOS  apple_The Economist_sirbeeth 2022-09-01 10:00:00  \n",
       "1      iOS       apple_Espresso_Abyss312 2022-09-01 10:00:00  \n",
       "2      iOS    apple_The Economist_DVJake 2022-09-01 12:00:00  \n",
       "3      iOS   apple_The Economist_jhatpro 2022-09-01 12:00:00  \n",
       "4  Android  google_The Economist_Swadesh 2022-09-01 10:00:00  "
      ]
     },
     "execution_count": 24,
     "metadata": {},
     "output_type": "execute_result"
    }
   ],
   "source": [
    "# Shuffle dataframe \n",
    "reviews_comb = reviews_comb.sample(frac=1).reset_index(drop=True)\n",
    "reviews_comb.head()"
   ]
  },
  {
   "cell_type": "markdown",
   "metadata": {},
   "source": [
    "### Save classification sample"
   ]
  },
  {
   "cell_type": "code",
   "execution_count": 27,
   "metadata": {},
   "outputs": [],
   "source": [
    "reviews_comb.to_csv('/Users/dominicbates/Documents/GitHub/app-review-classifier/data/training_sample/raw_classification_sample.csv')\n"
   ]
  },
  {
   "cell_type": "code",
   "execution_count": null,
   "metadata": {},
   "outputs": [],
   "source": [
    "# reviews.to_parquet('/Users/dominicbates/Documents/GitHub/app-review-classifier/data/training_sample/raw_review_data.parquet')\n"
   ]
  },
  {
   "cell_type": "markdown",
   "metadata": {},
   "source": [
    "### Check updating procedure"
   ]
  },
  {
   "cell_type": "code",
   "execution_count": 12,
   "metadata": {},
   "outputs": [],
   "source": [
    "def update_reviews_df(old_reviews_df, new_reviews_df=None):\n",
    "    '''\n",
    "    Gets all reviews, and then adds any new reviews to existing dataframe\n",
    "    This function exists as sometimes countries can fail mid-way, meaning it outputs\n",
    "    only a subsample of total reviews. This ensures, reviews will be picked up next time \n",
    "    the function is run, and if a country fails, but the review is already in the old dataframe, \n",
    "    it will still be kept\n",
    "    '''\n",
    "    if new_reviews_df is None:\n",
    "        print('Getting new reviews...')\n",
    "        new_reviews_df = get_all_reviews(country_list = None)\n",
    "    \n",
    "    # Combine dataframes\n",
    "    print('Combining with old reviews dataframe...')\n",
    "    combined_df = pd.concat([old_reviews_df, new_reviews_df]).reset_index(drop=True)\n",
    "\n",
    "    # Remove any duplictaed rows (i.e. share the same uniqueid)\n",
    "    combined_df = combined_df.sort_values(['uniqueid', 'date'],\n",
    "                                       ascending = [True, False]).reset_index(drop=True)\n",
    "    combined_df = combined_df.groupby('uniqueid',as_index=False).first().reset_index(drop=True)\n",
    "    \n",
    "    \n",
    "    print('\\nOriginal reviews dataframe length:',len(old_reviews_df))\n",
    "    print('Extracted reviews dataframe length:',len(new_reviews_df))\n",
    "    print('Overlapping reviews:',len(combined_df))\n",
    "    return combined_df\n",
    "\n"
   ]
  },
  {
   "cell_type": "code",
   "execution_count": 13,
   "metadata": {},
   "outputs": [
    {
     "name": "stdout",
     "output_type": "stream",
     "text": [
      "Combining with old reviews dataframe...\n",
      "\n",
      "Original reviews dataframe length: 10554\n",
      "Extracted reviews dataframe length: 10585\n",
      "Overlapping reviews: 4238\n"
     ]
    },
    {
     "data": {
      "text/html": [
       "<div>\n",
       "<style scoped>\n",
       "    .dataframe tbody tr th:only-of-type {\n",
       "        vertical-align: middle;\n",
       "    }\n",
       "\n",
       "    .dataframe tbody tr th {\n",
       "        vertical-align: top;\n",
       "    }\n",
       "\n",
       "    .dataframe thead th {\n",
       "        text-align: right;\n",
       "    }\n",
       "</style>\n",
       "<table border=\"1\" class=\"dataframe\">\n",
       "  <thead>\n",
       "    <tr style=\"text-align: right;\">\n",
       "      <th></th>\n",
       "      <th>uniqueid</th>\n",
       "      <th>date</th>\n",
       "      <th>title</th>\n",
       "      <th>review</th>\n",
       "      <th>rating</th>\n",
       "      <th>app</th>\n",
       "    </tr>\n",
       "  </thead>\n",
       "  <tbody>\n",
       "    <tr>\n",
       "      <th>0</th>\n",
       "      <td>apple_Espresso (Apple)_198765428</td>\n",
       "      <td>2014-11-10 12:27:40</td>\n",
       "      <td>Love it!</td>\n",
       "      <td>A nice shot of international news to go with b...</td>\n",
       "      <td>5.0</td>\n",
       "      <td>Espresso (Apple)</td>\n",
       "    </tr>\n",
       "    <tr>\n",
       "      <th>1</th>\n",
       "      <td>apple_Espresso (Apple)_3hgggvtrzuvä</td>\n",
       "      <td>2022-07-02 05:10:27</td>\n",
       "      <td>Inhalt gut App schlecht</td>\n",
       "      <td>neue Version der App ist ein großer Rückschritt</td>\n",
       "      <td>1.0</td>\n",
       "      <td>Espresso (Apple)</td>\n",
       "    </tr>\n",
       "    <tr>\n",
       "      <th>2</th>\n",
       "      <td>apple_Espresso (Apple)_61White</td>\n",
       "      <td>2017-08-09 05:16:18</td>\n",
       "      <td>Morning brief</td>\n",
       "      <td>A good way to start the morning. Very informat...</td>\n",
       "      <td>5.0</td>\n",
       "      <td>Espresso (Apple)</td>\n",
       "    </tr>\n",
       "    <tr>\n",
       "      <th>3</th>\n",
       "      <td>apple_Espresso (Apple)_ALdemooiepaarden</td>\n",
       "      <td>2017-08-20 11:29:18</td>\n",
       "      <td>Very informative</td>\n",
       "      <td>Great to get a quick daily update this way 👍</td>\n",
       "      <td>5.0</td>\n",
       "      <td>Espresso (Apple)</td>\n",
       "    </tr>\n",
       "    <tr>\n",
       "      <th>4</th>\n",
       "      <td>apple_Espresso (Apple)_Add me-a8113</td>\n",
       "      <td>2022-03-16 14:13:19</td>\n",
       "      <td>Needs ability to view previous days</td>\n",
       "      <td>Ive been using espresso since it first came ou...</td>\n",
       "      <td>4.0</td>\n",
       "      <td>Espresso (Apple)</td>\n",
       "    </tr>\n",
       "    <tr>\n",
       "      <th>...</th>\n",
       "      <td>...</td>\n",
       "      <td>...</td>\n",
       "      <td>...</td>\n",
       "      <td>...</td>\n",
       "      <td>...</td>\n",
       "      <td>...</td>\n",
       "    </tr>\n",
       "    <tr>\n",
       "      <th>4233</th>\n",
       "      <td>google_The Economist (Google)_yashleen kaur</td>\n",
       "      <td>2020-06-27 12:28:35</td>\n",
       "      <td></td>\n",
       "      <td>Not at all a good service provider</td>\n",
       "      <td>1.0</td>\n",
       "      <td>The Economist (Google)</td>\n",
       "    </tr>\n",
       "    <tr>\n",
       "      <th>4234</th>\n",
       "      <td>google_The Economist (Google)_yusuf jiruwala</td>\n",
       "      <td>2021-04-24 07:44:37</td>\n",
       "      <td></td>\n",
       "      <td>I am not able to sign in through the app while...</td>\n",
       "      <td>1.0</td>\n",
       "      <td>The Economist (Google)</td>\n",
       "    </tr>\n",
       "    <tr>\n",
       "      <th>4235</th>\n",
       "      <td>google_The Economist (Google)_Αλήτης Τεντιμπόης</td>\n",
       "      <td>2021-12-10 23:17:54</td>\n",
       "      <td></td>\n",
       "      <td>App resets when minimized</td>\n",
       "      <td>4.0</td>\n",
       "      <td>The Economist (Google)</td>\n",
       "    </tr>\n",
       "    <tr>\n",
       "      <th>4236</th>\n",
       "      <td>google_The Economist (Google)_Κωνσταντίνος Παπ...</td>\n",
       "      <td>2020-07-29 17:38:42</td>\n",
       "      <td></td>\n",
       "      <td>Audio experience is a horrid mess. It showed t...</td>\n",
       "      <td>1.0</td>\n",
       "      <td>The Economist (Google)</td>\n",
       "    </tr>\n",
       "    <tr>\n",
       "      <th>4237</th>\n",
       "      <td>google_The Economist (Google)_刘森</td>\n",
       "      <td>2020-05-17 07:31:14</td>\n",
       "      <td></td>\n",
       "      <td>It's fantabulous for me to learn English and p...</td>\n",
       "      <td>5.0</td>\n",
       "      <td>The Economist (Google)</td>\n",
       "    </tr>\n",
       "  </tbody>\n",
       "</table>\n",
       "<p>4238 rows × 6 columns</p>\n",
       "</div>"
      ],
      "text/plain": [
       "                                               uniqueid                date  \\\n",
       "0                      apple_Espresso (Apple)_198765428 2014-11-10 12:27:40   \n",
       "1                   apple_Espresso (Apple)_3hgggvtrzuvä 2022-07-02 05:10:27   \n",
       "2                        apple_Espresso (Apple)_61White 2017-08-09 05:16:18   \n",
       "3               apple_Espresso (Apple)_ALdemooiepaarden 2017-08-20 11:29:18   \n",
       "4                   apple_Espresso (Apple)_Add me-a8113 2022-03-16 14:13:19   \n",
       "...                                                 ...                 ...   \n",
       "4233        google_The Economist (Google)_yashleen kaur 2020-06-27 12:28:35   \n",
       "4234       google_The Economist (Google)_yusuf jiruwala 2021-04-24 07:44:37   \n",
       "4235    google_The Economist (Google)_Αλήτης Τεντιμπόης 2021-12-10 23:17:54   \n",
       "4236  google_The Economist (Google)_Κωνσταντίνος Παπ... 2020-07-29 17:38:42   \n",
       "4237                   google_The Economist (Google)_刘森 2020-05-17 07:31:14   \n",
       "\n",
       "                                    title  \\\n",
       "0                                Love it!   \n",
       "1                 Inhalt gut App schlecht   \n",
       "2                           Morning brief   \n",
       "3                        Very informative   \n",
       "4     Needs ability to view previous days   \n",
       "...                                   ...   \n",
       "4233                                        \n",
       "4234                                        \n",
       "4235                                        \n",
       "4236                                        \n",
       "4237                                        \n",
       "\n",
       "                                                 review  rating  \\\n",
       "0     A nice shot of international news to go with b...     5.0   \n",
       "1       neue Version der App ist ein großer Rückschritt     1.0   \n",
       "2     A good way to start the morning. Very informat...     5.0   \n",
       "3          Great to get a quick daily update this way 👍     5.0   \n",
       "4     Ive been using espresso since it first came ou...     4.0   \n",
       "...                                                 ...     ...   \n",
       "4233                 Not at all a good service provider     1.0   \n",
       "4234  I am not able to sign in through the app while...     1.0   \n",
       "4235                          App resets when minimized     4.0   \n",
       "4236  Audio experience is a horrid mess. It showed t...     1.0   \n",
       "4237  It's fantabulous for me to learn English and p...     5.0   \n",
       "\n",
       "                         app  \n",
       "0           Espresso (Apple)  \n",
       "1           Espresso (Apple)  \n",
       "2           Espresso (Apple)  \n",
       "3           Espresso (Apple)  \n",
       "4           Espresso (Apple)  \n",
       "...                      ...  \n",
       "4233  The Economist (Google)  \n",
       "4234  The Economist (Google)  \n",
       "4235  The Economist (Google)  \n",
       "4236  The Economist (Google)  \n",
       "4237  The Economist (Google)  \n",
       "\n",
       "[4238 rows x 6 columns]"
      ]
     },
     "execution_count": 13,
     "metadata": {},
     "output_type": "execute_result"
    }
   ],
   "source": [
    "update_reviews_df(reviews_james, reviews_dom)"
   ]
  },
  {
   "cell_type": "code",
   "execution_count": 3,
   "metadata": {},
   "outputs": [
    {
     "name": "stderr",
     "output_type": "stream",
     "text": [
      "2022-08-31 13:46:12,657 [INFO] Base - Initialised: AppStore('us', 'the-economist', 1239397626)\n",
      "2022-08-31 13:46:12,658 [INFO] Base - Ready to fetch reviews from: https://apps.apple.com/us/app/the-economist/id1239397626\n",
      "2022-08-31 13:46:31,650 [ERROR] Base - Something went wrong: HTTPSConnectionPool(host='amp-api.apps.apple.com', port=443): Max retries exceeded with url: /v1/catalog/us/apps/1239397626/reviews?l=en-GB&offset=20&limit=20&platform=web&additionalPlatforms=appletv%2Cipad%2Ciphone%2Cmac (Caused by ResponseError('too many 429 error responses'))\n",
      "2022-08-31 13:46:31,655 [INFO] Base - [id:1239397626] Fetched 20 reviews (20 fetched in total)\n"
     ]
    },
    {
     "name": "stdout",
     "output_type": "stream",
     "text": [
      "Found some results for US! Moving on...\n"
     ]
    }
   ],
   "source": [
    "# for n in range(10):\n",
    "#     test= scraper.get_apple_reviews('espresso-from-the-economist', app_id='896628003', country='US')\n",
    "    \n",
    "\n",
    "    \n",
    "t1 = scraper.get_apple_reviews('the-economist', app_id='1239397626', country='US')\n",
    "# t2 = scraper.get_apple_reviews('espresso-from-the-economist', app_id='896628003', country='GB')\n",
    "# t3 = scraper.get_google_reviews('com.economist.lamarr', country='US', lang='EN') # I think this is is all english reviews worldwide\n",
    "# t4 = scraper.get_google_reviews('com.economist.darwin', country='US', lang='EN') # I think this is is all english reviews worldwide\n",
    " "
   ]
  },
  {
   "cell_type": "code",
   "execution_count": 7,
   "metadata": {},
   "outputs": [
    {
     "ename": "KeyboardInterrupt",
     "evalue": "",
     "output_type": "error",
     "traceback": [
      "\u001b[0;31m---------------------------------------------------------------------------\u001b[0m",
      "\u001b[0;31mNameError\u001b[0m                                 Traceback (most recent call last)",
      "\u001b[0;32m<ipython-input-7-7cd3398278c9>\u001b[0m in \u001b[0;36m<module>\u001b[0;34m\u001b[0m\n\u001b[1;32m      3\u001b[0m     \u001b[0;32mtry\u001b[0m\u001b[0;34m:\u001b[0m\u001b[0;34m\u001b[0m\u001b[0;34m\u001b[0m\u001b[0m\n\u001b[0;32m----> 4\u001b[0;31m         \u001b[0mprint\u001b[0m\u001b[0;34m(\u001b[0m\u001b[0;34m'Hello world'\u001b[0m\u001b[0;34m,\u001b[0m\u001b[0mfsf3\u001b[0m\u001b[0;34m)\u001b[0m\u001b[0;34m\u001b[0m\u001b[0;34m\u001b[0m\u001b[0m\n\u001b[0m\u001b[1;32m      5\u001b[0m         \u001b[0;32mbreak\u001b[0m\u001b[0;34m\u001b[0m\u001b[0;34m\u001b[0m\u001b[0m\n",
      "\u001b[0;31mNameError\u001b[0m: name 'fsf3' is not defined",
      "\nDuring handling of the above exception, another exception occurred:\n",
      "\u001b[0;31mKeyboardInterrupt\u001b[0m                         Traceback (most recent call last)",
      "\u001b[0;32m<ipython-input-7-7cd3398278c9>\u001b[0m in \u001b[0;36m<module>\u001b[0;34m\u001b[0m\n\u001b[1;32m      5\u001b[0m         \u001b[0;32mbreak\u001b[0m\u001b[0;34m\u001b[0m\u001b[0;34m\u001b[0m\u001b[0m\n\u001b[1;32m      6\u001b[0m     \u001b[0;32mexcept\u001b[0m\u001b[0;34m:\u001b[0m\u001b[0;34m\u001b[0m\u001b[0;34m\u001b[0m\u001b[0m\n\u001b[0;32m----> 7\u001b[0;31m         \u001b[0mtime\u001b[0m\u001b[0;34m.\u001b[0m\u001b[0msleep\u001b[0m\u001b[0;34m(\u001b[0m\u001b[0;36m10\u001b[0m\u001b[0;34m+\u001b[0m\u001b[0;34m(\u001b[0m\u001b[0mn\u001b[0m\u001b[0;34m*\u001b[0m\u001b[0;36m2\u001b[0m\u001b[0;34m)\u001b[0m\u001b[0;34m)\u001b[0m\u001b[0;34m\u001b[0m\u001b[0;34m\u001b[0m\u001b[0m\n\u001b[0m\u001b[1;32m      8\u001b[0m \u001b[0;34m\u001b[0m\u001b[0m\n\u001b[1;32m      9\u001b[0m \u001b[0;34m\u001b[0m\u001b[0m\n",
      "\u001b[0;31mKeyboardInterrupt\u001b[0m: "
     ]
    }
   ],
   "source": [
    "import time\n",
    "for n in range(10):\n",
    "    try:\n",
    "        print('Hello world',fsf3)\n",
    "        break\n",
    "    except:\n",
    "        time.sleep(10+(n*2)) \n",
    "\n",
    "\n"
   ]
  },
  {
   "cell_type": "code",
   "execution_count": null,
   "metadata": {},
   "outputs": [],
   "source": [
    "reviews.to_csv('/Users/dominicbates/Documents/GitHub/app-review-classifier/data/training_sample/raw_review_data.csv')"
   ]
  }
 ],
 "metadata": {
  "kernelspec": {
   "display_name": "Python 3",
   "language": "python",
   "name": "python3"
  },
  "language_info": {
   "codemirror_mode": {
    "name": "ipython",
    "version": 3
   },
   "file_extension": ".py",
   "mimetype": "text/x-python",
   "name": "python",
   "nbconvert_exporter": "python",
   "pygments_lexer": "ipython3",
   "version": "3.7.4"
  }
 },
 "nbformat": 4,
 "nbformat_minor": 2
}
